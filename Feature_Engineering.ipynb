{
 "cells": [
  {
   "cell_type": "code",
   "execution_count": 1,
   "metadata": {},
   "outputs": [],
   "source": [
    "# --<Environment Libs>--\n",
    "import sys, os, subprocess  \n",
    "import pip, time\n",
    "\n",
    "# --<DataScience>--\n",
    "import seaborn \n",
    "import numpy as np\n",
    "import pandas as pd\n",
    "import matplotlib.pyplot as plt\n",
    "from pandas.plotting import scatter_matrix\n",
    "\n",
    "from sklearn.model_selection import train_test_split\n",
    "from sklearn.preprocessing import StandardScaler\n",
    "from sklearn.metrics import mean_absolute_error\n",
    "from sklearn.model_selection import GroupShuffleSplit\n",
    "from sklearn.model_selection import GridSearchCV\n",
    "from sklearn.preprocessing import StandardScaler\n",
    "\n",
    "\n",
    "# --<Feature Engineering>--\n",
    "from sklearn.pipeline import Pipeline\n",
    "from sklearn.preprocessing import OneHotEncoder\n",
    "from sklearn.preprocessing import OrdinalEncoder\n",
    "from sklearn.base import BaseEstimator, TransformerMixin\n",
    "from sklearn.impute import SimpleImputer\n",
    "from scipy.interpolate import interp1d\n",
    "from scipy.interpolate import BSpline, splrep\n",
    "\n",
    "\n",
    "\n",
    "\n",
    "from dataclasses import dataclass, field\n",
    "assert sys.version_info >= (3, 5)\n",
    "\n",
    "bScale: bool = False"
   ]
  },
  {
   "cell_type": "markdown",
   "metadata": {},
   "source": [
    "\n",
    "<img src=\"./hyst_loop.jpg\" alt=\"Hysteresis P/V Loop\" style=\"opacity: 0.8;\" />\n"
   ]
  },
  {
   "cell_type": "code",
   "execution_count": 2,
   "metadata": {},
   "outputs": [],
   "source": [
    "#setups\n",
    "plt.style.use('dark_background')\n",
    "csfont = {'fontname':'Comic Sans MS'}\n",
    "hfont = {'fontname':'Helvetica'}"
   ]
  },
  {
   "cell_type": "code",
   "execution_count": 7,
   "metadata": {},
   "outputs": [],
   "source": [
    "def Scale_Dataset(DataSet: pd.DataFrame):\n",
    "    Scaler = StandardScaler()\n",
    "    scaled_data = Scaler.fit_transform(DataSet)\n",
    "    DataSet = pd.DataFrame(scaled_data, columns=DataSet.columns)\n",
    "    del scaled_data\n",
    "    \n",
    "    return DataSet\n"
   ]
  },
  {
   "cell_type": "code",
   "execution_count": null,
   "metadata": {},
   "outputs": [],
   "source": [
    "Training_Set = pd.DataFrame()\n",
    "MultiCalss_validation = pd.DataFrame()\n",
    "CrossValidation = pd.DataFrame()\n",
    "\n",
    "Training_Set = pd.read_csv(\"TrainingSet.csv\")\n",
    "MultiCalss_validation = pd.read_csv(\"MultiValid.csv\")\n",
    "CrossValidation = pd.read_csv(\"CrossValid.csv\")\n",
    "\n",
    "# Renaming bad naming concentions\n",
    "Training_Set.columns = Training_Set.columns.str.replace(\"u_in\", \"TV-i\")\n",
    "Training_Set.columns = Training_Set.columns.str.replace(\"u_out\", \"TV-e\")\n",
    "MultiCalss_validation.columns = MultiCalss_validation.columns.str.replace(\"u_in\", \"TV-i\")\n",
    "MultiCalss_validation.columns = MultiCalss_validation.columns.str.replace(\"u_out\", \"TV-e\")\n",
    "CrossValidation.columns = CrossValidation.columns.str.replace(\"u_in\", \"TV-i\")\n",
    "CrossValidation.columns = CrossValidation.columns.str.replace(\"u_out\", \"TV-e\")\n",
    "\n",
    "#Droping useless weight\n",
    "Training_Set.dropna()\n",
    "MultiCalss_validation.dropna()\n",
    "CrossValidation.dropna()\n",
    "\n",
    "Training_Set = Training_Set.dropna(subset=['pressure'])\n",
    "MultiCalss_validation = MultiCalss_validation.dropna(subset=['pressure'])\n",
    "CrossValidation = CrossValidation.dropna(subset=['pressure'])\n",
    "\n",
    "Training_Set.drop(Training_Set.columns[[0,1]], axis =1, inplace=True)\n",
    "CrossValidation.drop(CrossValidation.columns[[0,1]], axis =1, inplace=True)\n",
    "MultiCalss_validation.drop(MultiCalss_validation.columns[[0,1]], axis =1, inplace=True)\n",
    "\n",
    "# Optional Scaling\n",
    "\n",
    "if bScale == True:\n",
    "    Training_Set = Scale_Dataset(Training_Set)\n",
    "    MultiCalss_validation = Scale_Dataset(MultiCalss_validation)\n",
    "    CrossValidation = Scale_Dataset(CrossValidation)\n",
    "\n",
    "\n",
    "print(Training_Set.describe())"
   ]
  },
  {
   "cell_type": "code",
   "execution_count": null,
   "metadata": {},
   "outputs": [
    {
     "data": {
      "text/plain": [
       "array([[<Axes: title={'center': 'R'}>, <Axes: title={'center': 'C'}>],\n",
       "       [<Axes: title={'center': 'time_step'}>,\n",
       "        <Axes: title={'center': 'TV-i'}>],\n",
       "       [<Axes: title={'center': 'TV-e'}>,\n",
       "        <Axes: title={'center': 'pressure'}>]], dtype=object)"
      ]
     },
     "execution_count": 46,
     "metadata": {},
     "output_type": "execute_result"
    }
   ],
   "source": [
    "Training_Set.iloc[:,1:].hist(bins = 50, figsize=(20,15))"
   ]
  },
  {
   "cell_type": "markdown",
   "metadata": {},
   "source": [
    "># ⚠️ **Conditional Warning: Time-Intensive Operation For:**\n",
    "> **Condition: Datasets larger than: 300 Mbytes**"
   ]
  },
  {
   "cell_type": "code",
   "execution_count": null,
   "metadata": {},
   "outputs": [],
   "source": [
    "set_attributes: list = [\"pressure\", \"TV-e\", \"TV-i\",\"R\", \"C\", \"time_step\"]\n",
    "scatter_matrix(Training_Set[set_attributes], figsize=(12,8))"
   ]
  },
  {
   "cell_type": "markdown",
   "metadata": {},
   "source": [
    "<img src=\"./Scatter_Matrix.png\" alt=\"Scatter Matrix\" style=\"opacity: 1;\" />"
   ]
  },
  {
   "cell_type": "markdown",
   "metadata": {},
   "source": [
    "## >> |Open Questions\n",
    "- Q: What is the data frequency of an individual Breath ?\n",
    "- A: Frequency ​≈ 16.67 Hz\n",
    "- Q: Does the timestep for individual readings remain **consistant** ?\n",
    "- A: Not consistant, it's voletile between the ranges **(59 - 64 miliseconds)**\n",
    "\n",
    "## Conclusions:\n",
    "- (16.67)Hz * (60)milliseconds = 1 sec.\n",
    "- Avg. breath cycle is 2.7 sec = **~ (50 * 7)** datapoints per breath"
   ]
  },
  {
   "cell_type": "markdown",
   "metadata": {},
   "source": [
    "## >> |Feature Engineering\n",
    "- Feature **A)** Reconstruction of sythetic datapoints: **Increase frequiency to ~ (32)Hz/sec.**\n",
    "- Feature **B)** Create a custom **Hysteresis Cycle** for each breath id."
   ]
  },
  {
   "cell_type": "code",
   "execution_count": null,
   "metadata": {},
   "outputs": [],
   "source": [
    "Interloper: int = 20"
   ]
  },
  {
   "cell_type": "markdown",
   "metadata": {},
   "source": [
    "<img src=\"./boosted.png\" alt=\"Scatter Matrix\" style=\"opacity: 1;\" />"
   ]
  },
  {
   "cell_type": "markdown",
   "metadata": {},
   "source": [
    ">## Interpolation of each Dataset\n",
    "- Training Set\n",
    "- MultiClass_validation Set\n",
    "- Corss-Validation Set"
   ]
  },
  {
   "cell_type": "code",
   "execution_count": null,
   "metadata": {},
   "outputs": [
    {
     "name": "stdout",
     "output_type": "stream",
     "text": [
      "      breath_id   R   C  time_step      TV-i  TV-e   pressure\n",
      "179       27147  20  10   1.287536  0.000000     1   6.751420\n",
      "342       26151  50  10   0.689145  0.000000     0  11.672570\n",
      "1687      62189  20  20   2.111571  4.796304     1   5.696887\n",
      "1834     100201   5  10   0.515675  8.730425     0  14.133145\n",
      "2059      79227  50  50   0.825188  2.074942     0   8.298067\n"
     ]
    }
   ],
   "source": [
    "gss = GroupShuffleSplit(test_size=0.999, random_state=42)\n",
    "for train_idx, _ in gss.split(Training_Set, groups=Training_Set['breath_id']):\n",
    "    training_mini = Training_Set.iloc[train_idx]\n",
    "    \n",
    "print(training_mini.head())"
   ]
  },
  {
   "cell_type": "markdown",
   "metadata": {},
   "source": [
    "### Interpolation Description:\n",
    "\n",
    "\n",
    "1. **Input Features**: \n",
    "   $$\n",
    "   X = [\\text{time\\_step}, R, C, TV_{i}, TV_{e}] \\in \\mathbb{R}^{n \\times m}\n",
    "   $$\n",
    "   where \\(n\\) is the number of samples and \\(m\\) is the number of features.\n",
    "\n",
    "   - \\(Y\\) is defined as the target variable:\n",
    "   $$\n",
    "   Y = \\text{pressure} \\in \\mathbb{R}^{n}\n",
    "   $$\n",
    "\n",
    "2. **Synthetic Time Steps**: \n",
    "   - The number of interpolated points  :\n",
    "   $$\n",
    "   n_{\\text{interloper}} = n + I\n",
    "   $$\n",
    "   where \\(I\\) is the additional points specified by the user.\n",
    "\n",
    "   - A synthetic time step vector is created:\n",
    "   $$\n",
    "   t_{\\text{synthetic}} = \\text{linspace}(t_{\\text{min}}, t_{\\text{max}}, n_{\\text{interloper}})\n",
    "   $$\n",
    "\n",
    "3. **Pressure Prediction Using B-Splines**: \n",
    "   - The B-spline representation of the pressure is generated using the `splrep` function:\n",
    "   $$\n",
    "   tck_{\\text{pressure}} = \\text{splrep}(S[\\text{time\\_step}], Y, s=0)\n",
    "   $$\n",
    "   - The predicted pressure values at synthetic time steps are calculated as:\n",
    "   $$\n",
    "   P_{\\text{pred}} = BSpline(tck_{\\text{pressure}})(t_{\\text{synthetic}})\n",
    "   $$\n",
    "\n",
    "4. **Variable Reconstruction**:\n",
    "   - A nested function is defined to reconstruct other variables in the dataset:\n",
    "   $$\n",
    "   V_{\\text{pred}} = BSpline(tck_{\\text{variable}})(t_{\\text{synthetic}})\n",
    "   $$\n",
    "\n",
    "   - This is computed as:\n",
    "   $$\n",
    "   tck_{\\text{variable}} = \\text{splrep}(S[\\text{time\\_step}], S[\\text{variable}], s=3)\n",
    "   $$\n",
    "\n",
    "5. **Constructing the Output DataFrame**: \n",
    "   - Finally, an interpolated dataset \\(I\\) is created:\n",
    "   $$\n",
    "   I = \\begin{bmatrix}\n",
    "   \\text{breath\\_id} & C_{\\text{pred}} & t_{\\text{synthetic}} & TV_{i_{\\text{pred}}} & TV_{e_{\\text{pred}}} & P_{\\text{pred}} \\\\\n",
    "   \\end{bmatrix}\n",
    "   $$\n",
    "\n",
    "   - The final reconstructed dataset is obtained by concatenating the original dataset \\(D\\) with the interpolated data \\(I\\):\n",
    "   $$\n",
    "   D_{\\text{new}} = D \\cup I\n",
    "   $$"
   ]
  },
  {
   "cell_type": "code",
   "execution_count": null,
   "metadata": {},
   "outputs": [],
   "source": [
    "import numpy as np\n",
    "import pandas as pd\n",
    "from scipy.interpolate import BSpline, splrep\n",
    "\n",
    "    \n",
    "\n",
    "def Reconstruct_Cycle(DataSet: pd.DataFrame, Single_Cycle: pd.DataFrame, Interloper: int):\n",
    "\n",
    "    X_features = Single_Cycle[['time_step', 'R', 'C', 'TV-i', 'TV-e']].values\n",
    "    Y_target = Single_Cycle['pressure'].values\n",
    "\n",
    "    Interloper += Single_Cycle.shape[0]\n",
    "    Synthetic_Timestep = np.linspace(Single_Cycle['time_step'].min(), Single_Cycle['time_step'].max(), Interloper)\n",
    "\n",
    "    Symetra = splrep(Single_Cycle['time_step'], Y_target, s=0)\n",
    "    Pressure_Prediction = BSpline(*Symetra)(Synthetic_Timestep)\n",
    "\n",
    "    def reconstruct_variable(target_column):\n",
    "        Y_target = Single_Cycle[target_column].values\n",
    "        tck = splrep(Single_Cycle['time_step'], Y_target, s=3)  \n",
    "        return BSpline(*tck)(Synthetic_Timestep)\n",
    "\n",
    "    # Reconstruct other variables\n",
    "    TV_i_pred = reconstruct_variable('TV-i')\n",
    "    TV_e_pred = reconstruct_variable('TV-e')\n",
    "    R_pred = reconstruct_variable('R')\n",
    "    C_pred = reconstruct_variable('C')\n",
    "\n",
    "    breath_id = Single_Cycle['breath_id'].values[0]\n",
    "    Interpolated_Data = pd.DataFrame({\n",
    "        'breath_id': np.full(Synthetic_Timestep.shape, breath_id),  \n",
    "        'C': C_pred,\n",
    "        'time_step': Synthetic_Timestep,\n",
    "        'TV-i': TV_i_pred,\n",
    "        'TV-e': TV_e_pred,\n",
    "        'pressure': Pressure_Prediction\n",
    "    })\n",
    "\n",
    "    DataSet = pd.concat([DataSet, Interpolated_Data], ignore_index=True)\n",
    "    \n",
    "    return DataSet\n"
   ]
  },
  {
   "cell_type": "code",
   "execution_count": null,
   "metadata": {},
   "outputs": [],
   "source": [
    "def Reconstruct_Dataset(DataSet: pd.DataFrame, dataset_name: str, Interloper:int)-> pd.DataFrame:\n",
    "    Single_Cycle = pd.DataFrame()\n",
    "    for breath_id, group in DataSet.groupby('breath_id'):\n",
    "\n",
    "        Single_Cycle = group.sort_values(by='time_step').copy()\n",
    "        DataSet = Reconstruct_Cycle(DataSet, Single_Cycle, Interloper)\n",
    "\n",
    "    DataSet.to_csv(dataset_name)\n",
    "    \n",
    "    return DataSet"
   ]
  },
  {
   "cell_type": "markdown",
   "metadata": {},
   "source": [
    "># ⚠️ **Warning: Time-Intensive Operation**\n",
    ">\n",
    "> The interpolation process you're about to run is computationally expensive and may take **several hours** to complete, the author advices to use small sliced datasets.\n",
    "># **Beware**\n",
    ">\n",
    "> - Ensure that your system has sufficient resources (CPU/RAM) to handle the process.\n",
    "> - Avoid interrupting the process once it has started.\n",
    "> - If possible, run this operation on a machine that will not be needed for other tasks during execution.\n"
   ]
  },
  {
   "cell_type": "code",
   "execution_count": null,
   "metadata": {},
   "outputs": [],
   "source": [
    "import time,warnings\n",
    "# Suppress specific Pandas warnings\n",
    "warnings.filterwarnings(\"ignore\", category=pd.errors.PerformanceWarning)\n",
    "warnings.filterwarnings(\"ignore\")\n",
    "\n",
    "start = time.time()\n",
    "pd.options.mode.chained_assignment = None\n",
    "\n",
    "Boosted_TrainingSet = Reconstruct_Dataset(Training_Set,\"Boosted_TrainingSet.csv.csv\", Interloper)\n",
    "Boosted_MultiClass =  Reconstruct_Dataset(CrossValidation,\"Boosted_MultiClass.csv\", Interloper)\n",
    "Boosted_CrossValidation = Reconstruct_Dataset(MultiCalss_validation,\"Boosted_CrossValidation.csv\", Interloper)\n",
    "\n",
    "end = time.time()\n",
    "print(\"Total time for interpolations is :\",\n",
    "      (end-start) * 10**3, \"ms\")"
   ]
  },
  {
   "cell_type": "markdown",
   "metadata": {},
   "source": [
    ">## Feature Engineering\n",
    "- **Pressure/Volume Loop** "
   ]
  },
  {
   "cell_type": "code",
   "execution_count": null,
   "metadata": {},
   "outputs": [],
   "source": [
    "Random_id = training_mini[training_mini['breath_id'] == 80001 ].copy()\n",
    "Random_id = Random_id.sort_values(by=\"time_step\")\n",
    "\n",
    "Hysteresis_Dynamics: dict = field(default_factory=dict)\n",
    "target_columns = [\"TV-i\", \"TV-e\",\"pressure\", \"R\", \"C\", \"time_step\"]\n",
    "\n",
    "Hysteresis_Dynamics = Random_id[target_columns].to_dict(orient ='list')\n"
   ]
  },
  {
   "cell_type": "markdown",
   "metadata": {},
   "source": [
    "# Data Interpolation\n",
    " **Default Datapoints (Left) - 16 Hz/sec**   |   **Interpolation (Right) - 32 Hz/sec**"
   ]
  },
  {
   "cell_type": "markdown",
   "metadata": {},
   "source": [
    "<img src=\"./17Hz.png\" alt=\"Scatter Matrix\" style=\"opacity: 1;\" />\n",
    "<img src=\"./32Hz.png\" alt=\"Scatter Matrix\" style=\"opacity: 1;\" />"
   ]
  },
  {
   "cell_type": "code",
   "execution_count": null,
   "metadata": {},
   "outputs": [
    {
     "data": {
      "image/png": "[encoded data removed]",
      "text/plain": [
       "<Figure size 640x480 with 1 Axes>"
      ]
     },
     "metadata": {},
     "output_type": "display_data"
    }
   ],
   "source": [
    "TV_i = np.array(Hysteresis_Dynamics['TV-i'])\n",
    "TV_e = np.array(Hysteresis_Dynamics['TV-e'])\n",
    "pressure = np.array(Hysteresis_Dynamics['pressure'])\n",
    "\n",
    "TV_total = TV_i + TV_e\n",
    "\n",
    "plt.ion() \n",
    "fig, ax = plt.subplots()\n",
    "line, = ax.plot([], [], marker='o', linestyle='-', color='b', label='Hysteresis (TV-total / Pressure)')\n",
    "\n",
    "ax.set_title('Hysteresis Loop: TV-total/Pressure - 32Hz')\n",
    "ax.set_xlabel('TV-total (TV-i + TV-e)')\n",
    "ax.set_ylabel('Pressure')\n",
    "ax.legend()\n",
    "\n",
    "def update_plot(x_data, y_data):\n",
    "    line.set_data(x_data, y_data)\n",
    "    ax.relim()          \n",
    "    ax.autoscale_view() \n",
    "    fig.canvas.draw()   \n",
    "    fig.canvas.flush_events() \n",
    "\n",
    "for i in range(len(TV_total)):\n",
    "    update_plot(TV_total[:i+1], pressure[:i+1])\n",
    "    \n",
    "plt.ioff()\n",
    "plt.show()"
   ]
  },
  {
   "cell_type": "markdown",
   "metadata": {},
   "source": [
    "# |Creating P/V cycles as a feature\n",
    "- **Working with the Interloped Datasets _~(32Hz)~_**\n",
    "\n",
    "- **The area of the polygon can be calculated using the formula:**\n",
    "\n",
    "$$\n",
    "A = \\frac{1}{2} \\left| \\sum_{i=1}^{n} \\left( x_i \\cdot y_{i+1} - y_i \\cdot x_{i+1} \\right) \\right|\n",
    "$$\n",
    "\n",
    "Where:\n",
    "- \\(x_i\\) and \\(y_i\\) are the coordinates of the polygon's vertices.\n",
    "- The indices wrap around, i.e., \\(y_{n+1} = y_1\\) and \\(x_{n+1} = x_1\\).\n",
    "> __________________________________________________________________________________________________________________________________________________________________________________________________________________________________________________________________________________________________________________________________________________________________________________________________________________________________\n",
    "\n",
    "### Area Calculation Using the Trapezoidal Rule\n",
    "\n",
    "The area under a curve defined by discrete points can be calculated using the **trapezoidal rule**, which approximates the integral of the function. Given a set of points \\((x_i, y_i)\\), the area \\(A\\) under the curve from \\(x_1\\) to \\(x_n\\) can be represented mathematically as:\n",
    "\n",
    "$$\n",
    "A = \\int_{a}^{b} f(x) \\, dx \\approx \\sum_{i=1}^{n-1} \\frac{(y_i + y_{i+1})}{2} (x_{i+1} - x_i)\n",
    "$$\n",
    "\n",
    "Where:\n",
    "- \\( A \\) is the approximate area under the curve.\n",
    "- \\( n \\) is the number of discrete points.\n",
    "- \\( x_i \\) are the \\( x \\)-coordinates of the points.\n",
    "- \\( y_i \\) are the \\( y \\)-coordinates of the points.\n",
    "- The term \\(\\frac{(y_i + y_{i+1})}{2}\\) represents the average height of the function between \\(x_i\\) and \\(x_{i+1}\\).\n",
    "- The difference \\((x_{i+1} - x_i)\\) represents the width of the interval.\n",
    "\n",
    "In the context of the provided code:\n",
    "**Area Calculation**:\n",
    "   The area is calculated as follows:\n",
    "\n",
    "$$\n",
    "\\text{area} = |A| = \\left| \\int_{x_{\\text{closed}}} y_{\\text{closed}} \\, dx \\right| \\approx \\text{np.abs}\\left(\\text{np.trapz}(y_{\\text{closed}}, x_{\\text{closed}})\\right)\n",
    "$$\n"
   ]
  },
  {
   "cell_type": "code",
   "execution_count": 2,
   "metadata": {},
   "outputs": [
    {
     "name": "stdout",
     "output_type": "stream",
     "text": [
      "<class 'pandas.core.frame.DataFrame'>\n",
      "RangeIndex: 9355644 entries, 0 to 9355643\n",
      "Data columns (total 7 columns):\n",
      " #   Column     Dtype  \n",
      "---  ------     -----  \n",
      " 0   breath_id  int64  \n",
      " 1   R          float64\n",
      " 2   C          float64\n",
      " 3   time_step  float64\n",
      " 4   TV-i       float64\n",
      " 5   TV-e       float64\n",
      " 6   pressure   float64\n",
      "dtypes: float64(6), int64(1)\n",
      "memory usage: 499.6 MB\n"
     ]
    }
   ],
   "source": [
    "Boosted_TrainingSet = pd.DataFrame()\n",
    "Boosted_MultiClass = pd.DataFrame()\n",
    "Boosted_CrossValidation = pd.DataFrame()\n",
    "\n",
    "Boosted_TrainingSet = pd.read_csv(\"Boosted_Training.csv\")\n",
    "Boosted_MultiClass = pd.read_csv(\"Boosted_Multiclass.csv\")\n",
    "Boosted_CrossValidation = pd.read_csv(\"Boosted_CrossValid.csv\")\n",
    "\n",
    "\n",
    "Boosted_TrainingSet.drop(Boosted_TrainingSet.columns[[0]], axis =1, inplace=True)\n",
    "Boosted_MultiClass.drop(Boosted_MultiClass.columns[[0]], axis =1, inplace=True)\n",
    "Boosted_CrossValidation.drop(Boosted_CrossValidation.columns[[0]], axis =1, inplace=True)\n",
    "\n",
    "\n",
    "Boosted_TrainingSet.info()"
   ]
  },
  {
   "cell_type": "markdown",
   "metadata": {},
   "source": [
    "># Polynomial Hysteresis Shape "
   ]
  },
  {
   "cell_type": "code",
   "execution_count": 12,
   "metadata": {},
   "outputs": [],
   "source": [
    "start_time = time.time()\n",
    "\n",
    "Boosted_TrainingSet = polynomial_area(Boosted_TrainingSet)\n",
    "Boosted_TrainingSet.to_csv(\"Final_TrainingSet.csv\")\n",
    "\n",
    "Boosted_MultiClass = polynomial_area(Boosted_MultiClass)\n",
    "Boosted_MultiClass.to_csv(\"Final_MultiClass.csv\")\n",
    "\n",
    "Boosted_CrossValidation= polynomial_area(Boosted_CrossValidation)\n",
    "Boosted_CrossValidation.to_csv(\"Final_CrossValid.csv\")\n",
    "\n",
    "end_time = time.time()\n",
    "\n",
    "print(\"Execution time:\", (end_time - start_time))\n"
   ]
  },
  {
   "cell_type": "code",
   "execution_count": 4,
   "metadata": {},
   "outputs": [],
   "source": [
    "def polynomial_area(Hysteresis_Sample: pd.DataFrame):\n",
    "    Tidal_Volume = Hysteresis_Sample[\"TV-i\"] +  Hysteresis_Sample[\"TV-e\"]\n",
    "    Apparent_Presusre = Hysteresis_Sample[\"pressure\"] \n",
    "\n",
    "    Polynomial_Area = np.abs(np.trapezoid(Apparent_Presusre, Tidal_Volume))\n",
    "    \n",
    "    Hysteresis_Sample[\"Polynomial_Area\"] = Polynomial_Area\n",
    "    return Hysteresis_Sample\n",
    "    "
   ]
  },
  {
   "cell_type": "code",
   "execution_count": 5,
   "metadata": {},
   "outputs": [],
   "source": [
    "def Update_Dataset(DataSet: pd.DataFrame):\n",
    "    for breath_id, group in DataSet.groupby('breath_id'):\n",
    "        Hysteresis_Sample = group.sort_values(by='time_step').copy()\n",
    "        DataSet = polynomial_area(Hysteresis_Sample)\n",
    "    Hysteresis_Sample.head()\n",
    "\n",
    "    "
   ]
  }
 ],
 "metadata": {
  "kernelspec": {
   "display_name": "Python 3",
   "language": "python",
   "name": "python3"
  },
  "language_info": {
   "codemirror_mode": {
    "name": "ipython",
    "version": 3
   },
   "file_extension": ".py",
   "mimetype": "text/x-python",
   "name": "python",
   "nbconvert_exporter": "python",
   "pygments_lexer": "ipython3",
   "version": "3.12.7"
  }
 },
 "nbformat": 4,
 "nbformat_minor": 2
}
