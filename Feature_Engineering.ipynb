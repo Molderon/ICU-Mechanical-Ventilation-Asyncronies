{
 "cells": [
  {
   "cell_type": "code",
   "execution_count": 867,
   "metadata": {},
   "outputs": [],
   "source": [
    "# --<Environment Libs>--\n",
    "import sys, os, subprocess  \n",
    "import pip\n",
    "\n",
    "# --<DataScience>--\n",
    "import seaborn \n",
    "import numpy as np\n",
    "import pandas as pd\n",
    "import matplotlib.pyplot as plt\n",
    "from pandas.plotting import scatter_matrix\n",
    "\n",
    "from sklearn.model_selection import train_test_split\n",
    "from sklearn.preprocessing import StandardScaler\n",
    "from sklearn.metrics import mean_absolute_error\n",
    "from sklearn.model_selection import GroupShuffleSplit\n",
    "from sklearn.model_selection import GridSearchCV\n",
    "from sklearn.preprocessing import StandardScaler\n",
    "\n",
    "\n",
    "# --<Feature Engineering>--\n",
    "from sklearn.pipeline import Pipeline\n",
    "from sklearn.preprocessing import OneHotEncoder\n",
    "from sklearn.preprocessing import OrdinalEncoder\n",
    "from sklearn.base import BaseEstimator, TransformerMixin\n",
    "from sklearn.impute import SimpleImputer\n",
    "from scipy.interpolate import interp1d\n",
    "from scipy.interpolate import BSpline, splrep\n",
    "\n",
    "\n",
    "\n",
    "from dataclasses import dataclass, field\n",
    "assert sys.version_info >= (3, 5)\n",
    "\n",
    "bScale: bool = False"
   ]
  },
  {
   "cell_type": "markdown",
   "metadata": {},
   "source": [
    "\n",
    "<img src=\"./hyst_loop.jpg\" alt=\"Hysteresis P/V Loop\" style=\"opacity: 0.8;\" />\n"
   ]
  },
  {
   "cell_type": "code",
   "execution_count": 868,
   "metadata": {},
   "outputs": [],
   "source": [
    "#setups\n",
    "plt.style.use('dark_background')\n",
    "csfont = {'fontname':'Comic Sans MS'}\n",
    "hfont = {'fontname':'Helvetica'}"
   ]
  },
  {
   "cell_type": "code",
   "execution_count": 869,
   "metadata": {},
   "outputs": [],
   "source": [
    "def Scale_Dataset(DataSet: pd.DataFrame):\n",
    "    Scaler = StandardScaler()\n",
    "    scaled_data = Scaler.fit_transform(DataSet)\n",
    "    DataSet = pd.DataFrame(scaled_data, columns=DataSet.columns)\n",
    "    del scaled_data\n",
    "    \n",
    "    return DataSet\n"
   ]
  },
  {
   "cell_type": "code",
   "execution_count": 870,
   "metadata": {},
   "outputs": [
    {
     "name": "stdout",
     "output_type": "stream",
     "text": [
      "          breath_id             R             C     time_step          TV-i  \\\n",
      "count  3.923322e+06  3.923322e+06  3.923322e+06  3.923322e+06  3.923322e+06   \n",
      "mean   6.283926e+04  2.703409e+01  2.608208e+01  1.307071e+00  7.321213e+00   \n",
      "std    3.633486e+04  1.959690e+01  1.715298e+01  7.659629e-01  1.343079e+01   \n",
      "min    1.000000e+00  5.000000e+00  1.000000e+01  0.000000e+00  0.000000e+00   \n",
      "25%    3.136800e+04  5.000000e+00  1.000000e+01  6.429992e-01  3.946657e-01   \n",
      "50%    6.276700e+04  2.000000e+01  2.000000e+01  1.308026e+00  4.385773e+00   \n",
      "75%    9.429000e+04  5.000000e+01  5.000000e+01  1.965321e+00  4.983905e+00   \n",
      "max    1.257490e+05  5.000000e+01  5.000000e+01  2.937238e+00  1.000000e+02   \n",
      "\n",
      "               TV-e      pressure  \n",
      "count  3.923322e+06  3.923322e+06  \n",
      "mean   6.204359e-01  1.121985e+01  \n",
      "std    4.852785e-01  8.109754e+00  \n",
      "min    0.000000e+00 -1.895744e+00  \n",
      "25%    0.000000e+00  6.329607e+00  \n",
      "50%    1.000000e+00  7.032628e+00  \n",
      "75%    1.000000e+00  1.364103e+01  \n",
      "max    1.000000e+00  6.482099e+01  \n"
     ]
    }
   ],
   "source": [
    "Training_Set = pd.DataFrame()\n",
    "MultiCalss_validation = pd.DataFrame()\n",
    "CrossValidation = pd.DataFrame()\n",
    "\n",
    "Training_Set = pd.read_csv(\"TrainingSet.csv\")\n",
    "MultiCalss_validation = pd.read_csv(\"MultiValid.csv\")\n",
    "CrossValidation = pd.read_csv(\"CrossValid.csv\")\n",
    "\n",
    "# Renaming bad naming concentions\n",
    "Training_Set.columns = Training_Set.columns.str.replace(\"u_in\", \"TV-i\")\n",
    "Training_Set.columns = Training_Set.columns.str.replace(\"u_out\", \"TV-e\")\n",
    "MultiCalss_validation.columns = MultiCalss_validation.columns.str.replace(\"u_in\", \"TV-i\")\n",
    "MultiCalss_validation.columns = MultiCalss_validation.columns.str.replace(\"u_out\", \"TV-e\")\n",
    "CrossValidation.columns = CrossValidation.columns.str.replace(\"u_in\", \"TV-i\")\n",
    "CrossValidation.columns = CrossValidation.columns.str.replace(\"u_out\", \"TV-e\")\n",
    "\n",
    "#Droping useless weight\n",
    "Training_Set.dropna()\n",
    "MultiCalss_validation.dropna()\n",
    "CrossValidation.dropna()\n",
    "\n",
    "Training_Set = Training_Set.dropna(subset=['pressure'])\n",
    "MultiCalss_validation = MultiCalss_validation.dropna(subset=['pressure'])\n",
    "CrossValidation = CrossValidation.dropna(subset=['pressure'])\n",
    "\n",
    "Training_Set.drop(Training_Set.columns[[0,1]], axis =1, inplace=True)\n",
    "CrossValidation.drop(CrossValidation.columns[[0,1]], axis =1, inplace=True)\n",
    "MultiCalss_validation.drop(MultiCalss_validation.columns[[0,1]], axis =1, inplace=True)\n",
    "\n",
    "# Optional Scaling\n",
    "\n",
    "if bScale == True:\n",
    "    Training_Set = Scale_Dataset(Training_Set)\n",
    "    MultiCalss_validation = Scale_Dataset(MultiCalss_validation)\n",
    "    CrossValidation = Scale_Dataset(CrossValidation)\n",
    "\n",
    "\n",
    "print(Training_Set.describe())"
   ]
  },
  {
   "cell_type": "code",
   "execution_count": 871,
   "metadata": {},
   "outputs": [
    {
     "data": {
      "text/plain": [
       "array([[<Axes: title={'center': 'R'}>, <Axes: title={'center': 'C'}>],\n",
       "       [<Axes: title={'center': 'time_step'}>,\n",
       "        <Axes: title={'center': 'TV-i'}>],\n",
       "       [<Axes: title={'center': 'TV-e'}>,\n",
       "        <Axes: title={'center': 'pressure'}>]], dtype=object)"
      ]
     },
     "execution_count": 871,
     "metadata": {},
     "output_type": "execute_result"
    }
   ],
   "source": [
    "Training_Set.iloc[:,1:].hist(bins = 50, figsize=(20,15))"
   ]
  },
  {
   "cell_type": "code",
   "execution_count": 872,
   "metadata": {},
   "outputs": [],
   "source": [
    "# Warning: long Time to plot if dataset is >= 100 Mbytes\n",
    "set_attributes: list = [\"pressure\", \"TV-e\", \"TV-i\",\"R\", \"C\", \"time_step\"]\n",
    "scatter_matrix(Training_Set[set_attributes], figsize=(12,8))"
   ]
  },
  {
   "cell_type": "markdown",
   "metadata": {},
   "source": [
    "<img src=\"./Scatter_Matrix.png\" alt=\"Scatter Matrix\" style=\"opacity: 1;\" />"
   ]
  },
  {
   "cell_type": "markdown",
   "metadata": {},
   "source": [
    "## >> |Open Questions\n",
    "- Q: What is the data frequency of an individual Breath ?\n",
    "- A: Frequency ​≈ 16.67 Hz\n",
    "- Q: Does the timestep for individual readings remain **consistant** ?\n",
    "- A: Not consistant, it's voletile between the ranges **(59 - 64 miliseconds)**\n",
    "\n",
    "## Conclusions:\n",
    "- (16.67)Hz * (60)milliseconds = 1 sec.\n",
    "- Avg. breath cycle is 2.7 sec = **~ (50 * 7)** datapoints per breath"
   ]
  },
  {
   "cell_type": "markdown",
   "metadata": {},
   "source": [
    "## >> |Feature Engineering\n",
    "- Feature **A)** Reconstruction of sythetic datapoints: **Increase frequiency to ~ (32)Hz/sec.**\n",
    "- Feature **B)** Create a custom **Hysteresis Cycle** for each breath id."
   ]
  },
  {
   "cell_type": "code",
   "execution_count": 873,
   "metadata": {},
   "outputs": [],
   "source": [
    "Interloper: int = 0"
   ]
  },
  {
   "cell_type": "markdown",
   "metadata": {},
   "source": [
    "<img src=\"./boosted.png\" alt=\"Scatter Matrix\" style=\"opacity: 1;\" />"
   ]
  },
  {
   "cell_type": "markdown",
   "metadata": {},
   "source": [
    "## Interpolation of each Dataset\n",
    "- Training Set\n",
    "- MultiClass_validation Set\n",
    "- Corss-Validation Set"
   ]
  },
  {
   "cell_type": "code",
   "execution_count": 874,
   "metadata": {},
   "outputs": [
    {
     "name": "stdout",
     "output_type": "stream",
     "text": [
      "      breath_id   R   C  time_step      TV-i  TV-e   pressure\n",
      "179       27147  20  10   1.287536  0.000000     1   6.751420\n",
      "342       26151  50  10   0.689145  0.000000     0  11.672570\n",
      "1687      62189  20  20   2.111571  4.796304     1   5.696887\n",
      "1834     100201   5  10   0.515675  8.730425     0  14.133145\n",
      "2059      79227  50  50   0.825188  2.074942     0   8.298067\n"
     ]
    }
   ],
   "source": [
    "gss = GroupShuffleSplit(test_size=0.999, random_state=42)\n",
    "for train_idx, _ in gss.split(Training_Set, groups=Training_Set['breath_id']):\n",
    "    training_mini = Training_Set.iloc[train_idx]\n",
    "    \n",
    "print(training_mini.head())"
   ]
  },
  {
   "cell_type": "code",
   "execution_count": 883,
   "metadata": {},
   "outputs": [],
   "source": [
    "import numpy as np\n",
    "import pandas as pd\n",
    "from scipy.interpolate import BSpline, splrep\n",
    "\n",
    "def Reconstruct_Cycle(DataSet: pd.DataFrame, Single_Cycle: pd.DataFrame, Interloper: int):\n",
    "\n",
    "    X_features = Single_Cycle[['time_step', 'R', 'C', 'TV-i', 'TV-e']].values\n",
    "    Y_target = Single_Cycle['pressure'].values\n",
    "\n",
    "    Interloper += Single_Cycle.shape[0]\n",
    "    Synthetic_Timestep = np.linspace(Single_Cycle['time_step'].min(), Single_Cycle['time_step'].max(), Interloper)\n",
    "\n",
    "    Symetra = splrep(Single_Cycle['time_step'], Y_target, s=0)\n",
    "    Pressure_Prediction = BSpline(*Symetra)(Synthetic_Timestep)\n",
    "\n",
    "    def reconstruct_variable(target_column):\n",
    "        Y_target = Single_Cycle[target_column].values\n",
    "        tck = splrep(Single_Cycle['time_step'], Y_target, s=0)  \n",
    "        return BSpline(*tck)(Synthetic_Timestep)\n",
    "\n",
    "    # Reconstruct other variables\n",
    "    TV_i_pred = reconstruct_variable('TV-i')\n",
    "    TV_e_pred = reconstruct_variable('TV-e')\n",
    "    R_pred = reconstruct_variable('R')\n",
    "    C_pred = reconstruct_variable('C')\n",
    "\n",
    "    breath_id = Single_Cycle['breath_id'].values[0]\n",
    "    Interpolated_Data = pd.DataFrame({\n",
    "        'breath_id': np.full(Synthetic_Timestep.shape, breath_id),  \n",
    "        'C': C_pred,\n",
    "        'time_step': Synthetic_Timestep,\n",
    "        'TV-i': TV_i_pred,\n",
    "        'TV-e': TV_e_pred,\n",
    "        'pressure': Pressure_Prediction\n",
    "    })\n",
    "\n",
    "    DataSet = pd.concat([DataSet, Interpolated_Data], ignore_index=True)\n",
    "    \n",
    "    return DataSet\n"
   ]
  },
  {
   "cell_type": "code",
   "execution_count": 876,
   "metadata": {},
   "outputs": [],
   "source": [
    "def Reconstruct_Dataset(DataSet: pd.DataFrame, dataset_name: str, Interloper:int)-> pd.DataFrame:\n",
    "    Single_Cycle = pd.DataFrame()\n",
    "    for breath_id, group in DataSet.groupby('breath_id'):\n",
    "\n",
    "        Single_Cycle = group.sort_values(by='time_step').copy()\n",
    "        DataSet = Reconstruct_Cycle(DataSet, Single_Cycle, Interloper)\n",
    "\n",
    "    DataSet.to_csv(dataset_name)\n",
    "    \n",
    "    return DataSet"
   ]
  },
  {
   "cell_type": "code",
   "execution_count": 877,
   "metadata": {},
   "outputs": [
    {
     "name": "stdout",
     "output_type": "stream",
     "text": [
      "Total time for interpolations is : 188.42482566833496 ms\n"
     ]
    }
   ],
   "source": [
    "import time,warnings\n",
    "# Suppress specific Pandas warnings\n",
    "warnings.filterwarnings(\"ignore\", category=pd.errors.PerformanceWarning)\n",
    "warnings.filterwarnings(\"ignore\")\n",
    "\n",
    "start = time.time()\n",
    "pd.options.mode.chained_assignment = None\n",
    "\n",
    "training_mini = Reconstruct_Dataset(training_mini,\"mini_training.csv\", Interloper)\n",
    "#Reconstruct_Dataset(multiclass_mini,\"mini_valid.csv\")\n",
    "#Reconstruct_Dataset(validation_mini,\"mini_multiclass.csv\")\n",
    "\n",
    "end = time.time()\n",
    "print(\"Total time for interpolations is :\",\n",
    "      (end-start) * 10**3, \"ms\")"
   ]
  },
  {
   "cell_type": "markdown",
   "metadata": {},
   "source": [
    "## Feature Engineering\n",
    "- **Pressure/Volume Loop** "
   ]
  },
  {
   "cell_type": "code",
   "execution_count": 879,
   "metadata": {},
   "outputs": [],
   "source": [
    "Random_id = training_mini[training_mini['breath_id'] == 80001 ].copy()\n",
    "Random_id = Random_id.sort_values(by=\"time_step\")\n",
    "\n",
    "Hysteresis_Dynamics: dict = field(default_factory=dict)\n",
    "target_columns = [\"TV-i\", \"TV-e\",\"pressure\", \"R\", \"C\", \"time_step\"]\n",
    "\n",
    "Hysteresis_Dynamics = Random_id[target_columns].to_dict(orient ='list')\n"
   ]
  },
  {
   "cell_type": "markdown",
   "metadata": {},
   "source": [
    "# Default Datapoints (Left) - 16 Hz/sec\n",
    "# Interpolation (Right) - 32 Hz/sec"
   ]
  },
  {
   "cell_type": "markdown",
   "metadata": {},
   "source": [
    "<img src=\"./17Hz.png\" alt=\"Scatter Matrix\" style=\"opacity: 1;\" />\n",
    "<img src=\"./32Hz.png\" alt=\"Scatter Matrix\" style=\"opacity: 1;\" />"
   ]
  },
  {
   "cell_type": "code",
   "execution_count": null,
   "metadata": {},
   "outputs": [],
   "source": [
    "TV_i = np.array(Hysteresis_Dynamics['TV-i'])\n",
    "TV_e = np.array(Hysteresis_Dynamics['TV-e'])\n",
    "pressure = np.array(Hysteresis_Dynamics['pressure'])\n",
    "\n",
    "TV_total = TV_i + TV_e\n",
    "\n",
    "plt.ion() \n",
    "fig, ax = plt.subplots()\n",
    "line, = ax.plot([], [], marker='o', linestyle='-', color='b', label='Hysteresis (TV-total vs Pressure)')\n",
    "\n",
    "ax.set_title('Hysteresis Loop: TV-total/Pressure - 32Hz')\n",
    "ax.set_xlabel('TV-total (TV-i + TV-e)')\n",
    "ax.set_ylabel('Pressure')\n",
    "ax.legend()\n",
    "\n",
    "def update_plot(x_data, y_data):\n",
    "    line.set_data(x_data, y_data)\n",
    "    ax.relim()          \n",
    "    ax.autoscale_view() \n",
    "    fig.canvas.draw()   \n",
    "    fig.canvas.flush_events() \n",
    "\n",
    "for i in range(len(TV_total)):\n",
    "    update_plot(TV_total[:i+1], pressure[:i+1])\n",
    "    \n",
    "plt.ioff()\n",
    "plt.show()"
   ]
  },
  {
   "cell_type": "code",
   "execution_count": 881,
   "metadata": {},
   "outputs": [
    {
     "data": {
      "text/plain": [
       "(110, 7)"
      ]
     },
     "execution_count": 881,
     "metadata": {},
     "output_type": "execute_result"
    }
   ],
   "source": [
    "Random_id.shape"
   ]
  }
 ],
 "metadata": {
  "kernelspec": {
   "display_name": "Python 3",
   "language": "python",
   "name": "python3"
  },
  "language_info": {
   "codemirror_mode": {
    "name": "ipython",
    "version": 3
   },
   "file_extension": ".py",
   "mimetype": "text/x-python",
   "name": "python",
   "nbconvert_exporter": "python",
   "pygments_lexer": "ipython3",
   "version": "3.12.6"
  }
 },
 "nbformat": 4,
 "nbformat_minor": 2
}
