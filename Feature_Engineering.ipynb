{
 "cells": [
  {
   "cell_type": "code",
   "execution_count": 2,
   "metadata": {},
   "outputs": [],
   "source": [
    "# --<Environment Libs>--\n",
    "from dataclasses import dataclass, field\n",
    "import sys, os, subprocess  \n",
    "import pip, time\n",
    "\n",
    "# --<DataScience>--\n",
    "import seaborn \n",
    "import numpy as np\n",
    "import pandas as pd\n",
    "import matplotlib.pyplot as plt\n",
    "\n",
    "from pandas.plotting import scatter_matrix\n",
    "from sklearn.model_selection import train_test_split\n",
    "from sklearn.preprocessing import StandardScaler\n",
    "from sklearn.metrics import mean_absolute_error\n",
    "from sklearn.model_selection import GroupShuffleSplit\n",
    "from sklearn.model_selection import GridSearchCV\n",
    "from sklearn.preprocessing import StandardScaler\n",
    "\n",
    "\n",
    "# --<Feature Engineering>--\n",
    "from sklearn.pipeline import Pipeline\n",
    "from sklearn.preprocessing import OneHotEncoder\n",
    "from sklearn.preprocessing import OrdinalEncoder\n",
    "from sklearn.base import BaseEstimator, TransformerMixin\n",
    "from sklearn.impute import SimpleImputer\n",
    "from scipy.interpolate import interp1d\n",
    "from scipy.interpolate import BSpline, splrep\n",
    "\n",
    "\n",
    "assert sys.version_info >= (3, 5)\n",
    "bScale: bool = False"
   ]
  },
  {
   "cell_type": "markdown",
   "metadata": {},
   "source": [
    "\n",
    "<img src=\"./hyst_loop.jpg\" alt=\"Hysteresis P/V Loop\" style=\"opacity: 0.8;\" />\n"
   ]
  },
  {
   "cell_type": "code",
   "execution_count": 4,
   "metadata": {},
   "outputs": [],
   "source": [
    "#setups\n",
    "plt.style.use('dark_background')\n",
    "csfont = {'fontname':'Comic Sans MS'}\n",
    "hfont = {'fontname':'Helvetica'}"
   ]
  },
  {
   "cell_type": "code",
   "execution_count": 3,
   "metadata": {},
   "outputs": [
    {
     "name": "stdout",
     "output_type": "stream",
     "text": [
      "          breath_id             R             C     time_step          TV-i  \\\n",
      "count  3.923322e+06  3.923322e+06  3.923322e+06  3.923322e+06  3.923322e+06   \n",
      "mean   6.283926e+04  2.703409e+01  2.608208e+01  1.307071e+00  7.321213e+00   \n",
      "std    3.633486e+04  1.959690e+01  1.715298e+01  7.659629e-01  1.343079e+01   \n",
      "min    1.000000e+00  5.000000e+00  1.000000e+01  0.000000e+00  0.000000e+00   \n",
      "25%    3.136800e+04  5.000000e+00  1.000000e+01  6.429992e-01  3.946657e-01   \n",
      "50%    6.276700e+04  2.000000e+01  2.000000e+01  1.308026e+00  4.385773e+00   \n",
      "75%    9.429000e+04  5.000000e+01  5.000000e+01  1.965321e+00  4.983905e+00   \n",
      "max    1.257490e+05  5.000000e+01  5.000000e+01  2.937238e+00  1.000000e+02   \n",
      "\n",
      "               TV-e      pressure  \n",
      "count  3.923322e+06  3.923322e+06  \n",
      "mean   6.204359e-01  1.121985e+01  \n",
      "std    4.852785e-01  8.109754e+00  \n",
      "min    0.000000e+00 -1.895744e+00  \n",
      "25%    0.000000e+00  6.329607e+00  \n",
      "50%    1.000000e+00  7.032628e+00  \n",
      "75%    1.000000e+00  1.364103e+01  \n",
      "max    1.000000e+00  6.482099e+01  \n"
     ]
    }
   ],
   "source": [
    "os.chdir(\"/home/molderon/Main/WorkSpace/Diploma Project/Hysteresis Labeling/\")\n",
    "\n",
    "\n",
    "Training_Set = pd.DataFrame()\n",
    "MultiCalss_validation = pd.DataFrame()\n",
    "CrossValidation = pd.DataFrame()\n",
    "\n",
    "Training_Set = pd.read_csv(\"TrainingSet.csv\")\n",
    "MultiCalss_validation = pd.read_csv(\"MultiValid.csv\")\n",
    "CrossValidation = pd.read_csv(\"CrossValid.csv\")\n",
    "\n",
    "# Renaming bad naming concentions\n",
    "Training_Set.columns = Training_Set.columns.str.replace(\"u_in\", \"TV-i\")\n",
    "Training_Set.columns = Training_Set.columns.str.replace(\"u_out\", \"TV-e\")\n",
    "MultiCalss_validation.columns = MultiCalss_validation.columns.str.replace(\"u_in\", \"TV-i\")\n",
    "MultiCalss_validation.columns = MultiCalss_validation.columns.str.replace(\"u_out\", \"TV-e\")\n",
    "CrossValidation.columns = CrossValidation.columns.str.replace(\"u_in\", \"TV-i\")\n",
    "CrossValidation.columns = CrossValidation.columns.str.replace(\"u_out\", \"TV-e\")\n",
    "\n",
    "#Droping useless weight\n",
    "Training_Set.dropna()\n",
    "MultiCalss_validation.dropna()\n",
    "CrossValidation.dropna()\n",
    "\n",
    "Training_Set = Training_Set.dropna(subset=['pressure'])\n",
    "MultiCalss_validation = MultiCalss_validation.dropna(subset=['pressure'])\n",
    "CrossValidation = CrossValidation.dropna(subset=['pressure'])\n",
    "\n",
    "Training_Set.drop(Training_Set.columns[[0,1]], axis =1, inplace=True)\n",
    "CrossValidation.drop(CrossValidation.columns[[0,1]], axis =1, inplace=True)\n",
    "MultiCalss_validation.drop(MultiCalss_validation.columns[[0,1]], axis =1, inplace=True)\n",
    "\n",
    "# Optional Scaling\n",
    "\n",
    "if bScale == True:\n",
    "    Training_Set = Scale_Dataset(Training_Set)\n",
    "    MultiCalss_validation = Scale_Dataset(MultiCalss_validation)\n",
    "    CrossValidation = Scale_Dataset(CrossValidation)\n",
    "\n",
    "\n",
    "print(Training_Set.describe())"
   ]
  },
  {
   "cell_type": "code",
   "execution_count": 59,
   "metadata": {},
   "outputs": [
    {
     "data": {
      "text/plain": [
       "array([[<Axes: title={'center': 'R'}>, <Axes: title={'center': 'C'}>],\n",
       "       [<Axes: title={'center': 'time_step'}>,\n",
       "        <Axes: title={'center': 'TV-i'}>],\n",
       "       [<Axes: title={'center': 'TV-e'}>,\n",
       "        <Axes: title={'center': 'pressure'}>]], dtype=object)"
      ]
     },
     "execution_count": 59,
     "metadata": {},
     "output_type": "execute_result"
    }
   ],
   "source": [
    "Training_Set.iloc[:,1:].hist(bins = 50, figsize=(20,15))"
   ]
  },
  {
   "cell_type": "markdown",
   "metadata": {},
   "source": [
    "># ⚠️ **Conditional Warning: Time-Intensive Operation For:**\n",
    "> **Condition: Datasets larger than: 300 Mbytes**"
   ]
  },
  {
   "cell_type": "code",
   "execution_count": null,
   "metadata": {},
   "outputs": [],
   "source": [
    "set_attributes: list = [\"pressure\", \"TV-e\", \"TV-i\",\"R\", \"C\", \"time_step\"]\n",
    "scatter_matrix(Training_Set[set_attributes], figsize=(12,8))"
   ]
  },
  {
   "cell_type": "markdown",
   "metadata": {},
   "source": [
    "<img src=\"./Scatter_Matrix.png\" alt=\"Scatter Matrix\" style=\"opacity: 1;\" />"
   ]
  },
  {
   "cell_type": "markdown",
   "metadata": {},
   "source": [
    "## >> |Open Questions\n",
    "- Q: What is the data frequency of an individual Breath ?\n",
    "- A: Frequency ​≈ 16.67 Hz\n",
    "- Q: Does the timestep for individual readings remain **consistant** ?\n",
    "- A: Not consistant, it's voletile between the ranges **(59 - 64 miliseconds)**\n",
    "\n",
    "## Conclusions:\n",
    "- (16.67)Hz * (60)milliseconds = 1 sec.\n",
    "- Avg. breath cycle is 2.7 sec = **~ (50 * 7)** datapoints per breath"
   ]
  },
  {
   "cell_type": "markdown",
   "metadata": {},
   "source": [
    "## >> |Feature Engineering\n",
    "- Feature **A)** Reconstruction of sythetic datapoints: **Increase frequiency to ~ (32)Hz/sec.**\n",
    "- Feature **B)** Create a custom **Hysteresis Cycle** for each breath id."
   ]
  },
  {
   "cell_type": "markdown",
   "metadata": {},
   "source": [
    "<img src=\"./boosted.png\" alt=\"Scatter Matrix\" style=\"opacity: 1;\" />"
   ]
  },
  {
   "cell_type": "markdown",
   "metadata": {},
   "source": [
    ">## Interpolation of each Dataset\n",
    "- Training Set\n",
    "- MultiClass_validation Set\n",
    "- Corss-Validation Set"
   ]
  },
  {
   "cell_type": "code",
   "execution_count": 37,
   "metadata": {},
   "outputs": [],
   "source": [
    "gss = GroupShuffleSplit(test_size=0.99, random_state=42)\n",
    "for train_idx, _ in gss.split(Training_Set, groups=Training_Set['breath_id']):\n",
    "    training_mini = Training_Set.iloc[train_idx]"
   ]
  },
  {
   "cell_type": "code",
   "execution_count": 20,
   "metadata": {},
   "outputs": [],
   "source": [
    "Interloper: int = 20"
   ]
  },
  {
   "cell_type": "code",
   "execution_count": 18,
   "metadata": {},
   "outputs": [],
   "source": [
    "def Reconstruct_Cycle(DataSet: pd.DataFrame, Single_Cycle: pd.DataFrame, Interloper: int):\n",
    "\n",
    "    X_features = Single_Cycle[['time_step', 'R', 'C', 'TV-i', 'TV-e']].values\n",
    "    Y_target = Single_Cycle['pressure'].values\n",
    "\n",
    "    Interloper += Single_Cycle.shape[0]\n",
    "    Synthetic_Timestep = np.linspace(Single_Cycle['time_step'].min(), Single_Cycle['time_step'].max(), Interloper)\n",
    "\n",
    "    Symetra = splrep(Single_Cycle['time_step'], Y_target, s=0)\n",
    "    Pressure_Prediction = BSpline(*Symetra)(Synthetic_Timestep)\n",
    "\n",
    "    def reconstruct_variable(target_column):\n",
    "        Y_target = Single_Cycle[target_column].values\n",
    "        tck = splrep(Single_Cycle['time_step'], Y_target, s=3)  \n",
    "        return BSpline(*tck)(Synthetic_Timestep)\n",
    "\n",
    "    # Reconstruct other variables\n",
    "    TV_i_pred = reconstruct_variable('TV-i')\n",
    "    TV_e_pred = reconstruct_variable('TV-e')\n",
    "    R_pred = reconstruct_variable('R')\n",
    "    C_pred = reconstruct_variable('C')\n",
    "\n",
    "    breath_id = Single_Cycle['breath_id'].values[0]\n",
    "    Interpolated_Data = pd.DataFrame({\n",
    "        'breath_id': np.full(Synthetic_Timestep.shape, breath_id),  \n",
    "        'C': C_pred,\n",
    "        'time_step': Synthetic_Timestep,\n",
    "        'TV-i': TV_i_pred,\n",
    "        'TV-e': TV_e_pred,\n",
    "        'pressure': Pressure_Prediction\n",
    "    })\n",
    "\n",
    "    DataSet = pd.concat([DataSet, Interpolated_Data], ignore_index=True)\n",
    "    \n",
    "    return DataSet"
   ]
  },
  {
   "cell_type": "code",
   "execution_count": 17,
   "metadata": {},
   "outputs": [],
   "source": [
    "def Reconstruct_Dataset(DataSet: pd.DataFrame, dataset_name: str, Interloper:int)-> pd.DataFrame:\n",
    "    Single_Cycle = pd.DataFrame()\n",
    "    for breath_id, group in DataSet.groupby('breath_id'):\n",
    "        Single_Cycle = group.sort_values(by='time_step').copy()\n",
    "        DataSet = Reconstruct_Cycle(DataSet, Single_Cycle, Interloper)\n",
    "\n",
    "    DataSet.to_csv(dataset_name)\n",
    "    \n",
    "    return DataSet"
   ]
  },
  {
   "cell_type": "markdown",
   "metadata": {},
   "source": [
    "># ⚠️ **Warning: Time-Intensive Operation**\n",
    ">\n",
    "> The interpolation process you're about to run is computationally expensive and may take **several hours** to complete, the author advices to use small sliced datasets.\n",
    "># **Beware**\n",
    ">\n",
    "> - Ensure that your system has sufficient resources (CPU/RAM) to handle the process.\n",
    "> - Avoid interrupting the process once it has started.\n",
    "> - If possible, run this operation on a machine that will not be needed for other tasks during execution.\n"
   ]
  },
  {
   "cell_type": "code",
   "execution_count": 38,
   "metadata": {},
   "outputs": [
    {
     "name": "stdout",
     "output_type": "stream",
     "text": [
      "Total time for interpolations is : 1790.0197505950928 ms\n"
     ]
    }
   ],
   "source": [
    "import time,warnings\n",
    "# Suppress specific Pandas warnings\n",
    "warnings.filterwarnings(\"ignore\", category=pd.errors.PerformanceWarning)\n",
    "warnings.filterwarnings(\"ignore\")\n",
    "\n",
    "start = time.time()\n",
    "pd.options.mode.chained_assignment = None\n",
    "\n",
    "Boosted_TrainingSet = Reconstruct_Dataset(Training_Set,\"Boosted_TrainingSet.csv.csv\", Interloper)\n",
    "Boosted_MultiClass =  Reconstruct_Dataset(CrossValidation,\"Boosted_MultiClass.csv\", Interloper)\n",
    "Boosted_CrossValidation = Reconstruct_Dataset(MultiCalss_validation,\"Boosted_CrossValidation.csv\", Interloper)\n",
    "\n",
    "end = time.time()\n",
    "print(\"Total time for interpolations is :\",\n",
    "      (end-start) * 10**3, \"ms\")"
   ]
  },
  {
   "cell_type": "markdown",
   "metadata": {},
   "source": [
    ">## Feature Engineering\n",
    "- **Pressure/Volume Loop** "
   ]
  },
  {
   "cell_type": "code",
   "execution_count": 24,
   "metadata": {},
   "outputs": [
    {
     "data": {
      "image/png": "[encoded data removed]",
      "text/plain": [
       "<Figure size 640x480 with 1 Axes>"
      ]
     },
     "metadata": {},
     "output_type": "display_data"
    }
   ],
   "source": [
    "Random_id = training_mini[training_mini['breath_id'] == 4447 ].copy()\n",
    "Random_id = Random_id.sort_values(by=\"time_step\")\n",
    "\n",
    "Hysteresis_Dynamics: dict = field(default_factory=dict)\n",
    "target_columns = [\"TV-i\", \"TV-e\",\"pressure\", \"R\", \"C\", \"time_step\"]\n",
    "\n",
    "Hysteresis_Dynamics = Random_id[target_columns].to_dict(orient ='list')\n",
    "Plot_Hysteresis(Hysteresis_Dynamics)"
   ]
  },
  {
   "cell_type": "code",
   "execution_count": 39,
   "metadata": {},
   "outputs": [
    {
     "data": {
      "text/plain": [
       "(128, 7)"
      ]
     },
     "execution_count": 39,
     "metadata": {},
     "output_type": "execute_result"
    }
   ],
   "source": [
    "Random_id.shape"
   ]
  },
  {
   "cell_type": "markdown",
   "metadata": {},
   "source": [
    "# Data Interpolation\n",
    " **Default Datapoints (Left) - 16 Hz/sec**   |   **Interpolation (Right) - 32 Hz/sec**"
   ]
  },
  {
   "cell_type": "markdown",
   "metadata": {},
   "source": [
    "<img src=\"./17Hz.png\" alt=\"Scatter Matrix\" style=\"opacity: 1;\" />\n",
    "<img src=\"./32Hz.png\" alt=\"Scatter Matrix\" style=\"opacity: 1;\" />"
   ]
  },
  {
   "cell_type": "code",
   "execution_count": 40,
   "metadata": {},
   "outputs": [],
   "source": [
    "def Plot_Hysteresis(Hysteresis_Dynamics: pd.DataFrame):\n",
    "    TV_i = np.array(Hysteresis_Dynamics['TV-i'])\n",
    "    TV_e = np.array(Hysteresis_Dynamics['TV-e'])\n",
    "    pressure = np.array(Hysteresis_Dynamics['pressure'])\n",
    "\n",
    "    TV_total = TV_i + TV_e\n",
    "\n",
    "    plt.ion() \n",
    "    fig, ax = plt.subplots()\n",
    "    line, = ax.plot([], [], marker='o', linestyle='-', color='b', label='Hysteresis (TV-total / Pressure)')\n",
    "\n",
    "    ax.set_title('Hysteresis Loop: TV-total/Pressure - 32Hz')\n",
    "    ax.set_xlabel('TV-total (TV-i + TV-e)')\n",
    "    ax.set_ylabel('Pressure')\n",
    "    ax.legend()\n",
    "\n",
    "    def update_plot(x_data, y_data):\n",
    "        line.set_data(x_data, y_data)\n",
    "        ax.relim()          \n",
    "        ax.autoscale_view() \n",
    "        fig.canvas.draw()   \n",
    "        fig.canvas.flush_events() \n",
    "\n",
    "    for i in range(len(TV_total)):\n",
    "        update_plot(TV_total[:i+1], pressure[:i+1])\n",
    "\n",
    "    plt.ioff()\n",
    "    plt.show()"
   ]
  },
  {
   "cell_type": "markdown",
   "metadata": {},
   "source": [
    "# |Creating P/V cycles as a feature\n",
    "- **Working with the Interloped Datasets _~(32Hz)~_**\n",
    "\n",
    "- **The area of the polygon can be calculated using the formula:**\n",
    "\n",
    "$$\n",
    "A = \\frac{1}{2} \\left| \\sum_{i=1}^{n} \\left( x_i \\cdot y_{i+1} - y_i \\cdot x_{i+1} \\right) \\right|\n",
    "$$\n",
    "\n",
    "Where:\n",
    "- \\(x_i\\) and \\(y_i\\) are the coordinates of the polygon's vertices.\n",
    "- The indices wrap around, i.e., \\(y_{n+1} = y_1\\) and \\(x_{n+1} = x_1\\).\n",
    "> __________________________________________________________________________________________________________________________________________________________________________________________________________________________________________________________________________________________________________________________________________________________________________________________________________________________________\n",
    "\n",
    "### Area Calculation Using the Trapezoidal Rule\n",
    "\n",
    "The area under a curve defined by discrete points can be calculated using the **trapezoidal rule**, which approximates the integral of the function. Given a set of points \\((x_i, y_i)\\), the area \\(A\\) under the curve from \\(x_1\\) to \\(x_n\\) can be represented mathematically as:\n",
    "\n",
    "$$\n",
    "A = \\int_{a}^{b} f(x) \\, dx \\approx \\sum_{i=1}^{n-1} \\frac{(y_i + y_{i+1})}{2} (x_{i+1} - x_i)\n",
    "$$\n",
    "\n",
    "Where:\n",
    "- \\( A \\) is the approximate area under the curve.\n",
    "- \\( n \\) is the number of discrete points.\n",
    "- \\( x_i \\) are the \\( x \\)-coordinates of the points.\n",
    "- \\( y_i \\) are the \\( y \\)-coordinates of the points.\n",
    "- The term \\(\\frac{(y_i + y_{i+1})}{2}\\) represents the average height of the function between \\(x_i\\) and \\(x_{i+1}\\).\n",
    "- The difference \\((x_{i+1} - x_i)\\) represents the width of the interval.\n",
    "\n",
    "In the context of the provided code:\n",
    "**Area Calculation**:\n",
    "   The area is calculated as follows:\n",
    "\n",
    "$$\n",
    "\\text{area} = |A| = \\left| \\int_{x_{\\text{closed}}} y_{\\text{closed}} \\, dx \\right| \\approx \\text{np.abs}\\left(\\text{np.trapz}(y_{\\text{closed}}, x_{\\text{closed}})\\right)\n",
    "$$\n"
   ]
  },
  {
   "cell_type": "code",
   "execution_count": null,
   "metadata": {},
   "outputs": [],
   "source": [
    "os.chdir(\"/home/molderon/Main/WorkSpace/Diploma Project/Classification Algorithms\")\n",
    "\n",
    "TrainingSet = pd.DataFrame()\n",
    "Training_Scaler = StandardScaler()\n",
    "MultiClass = pd.DataFrame()\n",
    "MultiClass_Scaler = StandardScaler()\n",
    "CrossValidation = pd.DataFrame()\n",
    "Crossvalid_Sclaer = StandardScaler()\n",
    "\n",
    "# Load CSV files\n",
    "TrainingSet = pd.read_csv(\"Final_TrainingSet.csv\")\n",
    "MultiClass = pd.read_csv(\"Final_MultiClass.csv\")\n",
    "CrossValidation = pd.read_csv(\"Final_CrossValid.csv\")\n",
    "\n",
    "# Drop first column if it's unnecessary (e.g., an index column)\n",
    "TrainingSet.drop(TrainingSet.columns[[0]], axis=1, inplace=True)\n",
    "MultiClass.drop(MultiClass.columns[[0]], axis=1, inplace=True)\n",
    "CrossValidation.drop(CrossValidation.columns[[0]], axis=1, inplace=True)\n",
    "\n",
    "# Fit and transform using StandardScaler\n",
    "Training_Scaler.fit(TrainingSet)\n",
    "MultiClass_Scaler.fit(MultiClass)\n",
    "Crossvalid_Sclaer.fit(CrossValidation)\n",
    "\n",
    "# Transform and re-apply the column names\n",
    "TrainingSet = pd.DataFrame(Training_Scaler.transform(TrainingSet), columns=TrainingSet.columns)\n",
    "MultiClass = pd.DataFrame(MultiClass_Scaler.transform(MultiClass), columns=MultiClass.columns)\n",
    "CrossValidation = pd.DataFrame(Crossvalid_Sclaer.transform(CrossValidation), columns=CrossValidation.columns)"
   ]
  },
  {
   "cell_type": "markdown",
   "metadata": {},
   "source": [
    "># Polynomial Hysteresis Shape "
   ]
  },
  {
   "cell_type": "code",
   "execution_count": 52,
   "metadata": {},
   "outputs": [],
   "source": [
    "def polynomial_area(Hysteresis_Sample: pd.DataFrame):\n",
    "    Tidal_Volume = Hysteresis_Sample[\"TV-i\"] +  Hysteresis_Sample[\"TV-e\"]\n",
    "    Apparent_Presusre = Hysteresis_Sample[\"pressure\"]\n",
    "\n",
    "    Polynomial_Area = np.abs(np.trapezoid(Apparent_Presusre, Tidal_Volume))\n",
    "    Hysteresis_Sample[\"Polynomial_Area\"] = Polynomial_Area\n",
    "    \n",
    "    return Hysteresis_Sample\n",
    "\n",
    "def Update_Dataset(DataSet: pd.DataFrame):\n",
    "    Featurefull_Rows = []\n",
    "    for breath_id, group in DataSet.groupby('breath_id'):\n",
    "        Hysteresis_Sample = group.sort_values(by='time_step').copy()\n",
    "        Featurefull_Rows.append(polynomial_area(Hysteresis_Sample))\n",
    "    DataSet = pd.concat(Featurefull_Rows, ignore_index=True)\n",
    "    return DataSet"
   ]
  },
  {
   "cell_type": "markdown",
   "metadata": {},
   "source": [
    "### Interpolation Description:\n",
    "\n",
    "\n",
    "1. **Input Features**: \n",
    "   $$\n",
    "   X = [\\text{time\\_step}, R, C, TV_{i}, TV_{e}] \\in \\mathbb{R}^{n \\times m}\n",
    "   $$\n",
    "   where \\(n\\) is the number of samples and \\(m\\) is the number of features.\n",
    "\n",
    "   - \\(Y\\) is defined as the target variable:\n",
    "   $$\n",
    "   Y = \\text{pressure} \\in \\mathbb{R}^{n}\n",
    "   $$\n",
    "\n",
    "2. **Synthetic Time Steps**: \n",
    "   - The number of interpolated points  :\n",
    "   $$\n",
    "   n_{\\text{interloper}} = n + I\n",
    "   $$\n",
    "   where \\(I\\) is the additional points specified by the user.\n",
    "\n",
    "   - A synthetic time step vector is created:\n",
    "   $$\n",
    "   t_{\\text{synthetic}} = \\text{linspace}(t_{\\text{min}}, t_{\\text{max}}, n_{\\text{interloper}})\n",
    "   $$\n",
    "\n",
    "3. **Pressure Prediction Using B-Splines**: \n",
    "   - The B-spline representation of the pressure is generated using the `splrep` function:\n",
    "   $$\n",
    "   tck_{\\text{pressure}} = \\text{splrep}(S[\\text{time\\_step}], Y, s=0)\n",
    "   $$\n",
    "   - The predicted pressure values at synthetic time steps are calculated as:\n",
    "   $$\n",
    "   P_{\\text{pred}} = BSpline(tck_{\\text{pressure}})(t_{\\text{synthetic}})\n",
    "   $$\n",
    "\n",
    "4. **Variable Reconstruction**:\n",
    "   - A nested function is defined to reconstruct other variables in the dataset:\n",
    "   $$\n",
    "   V_{\\text{pred}} = BSpline(tck_{\\text{variable}})(t_{\\text{synthetic}})\n",
    "   $$\n",
    "\n",
    "   - This is computed as:\n",
    "   $$\n",
    "   tck_{\\text{variable}} = \\text{splrep}(S[\\text{time\\_step}], S[\\text{variable}], s=3)\n",
    "   $$\n",
    "\n",
    "5. **Constructing the Output DataFrame**: \n",
    "   - Finally, an interpolated dataset \\(I\\) is created:\n",
    "   $$\n",
    "   I = \\begin{bmatrix}\n",
    "   \\text{breath\\_id} & C_{\\text{pred}} & t_{\\text{synthetic}} & TV_{i_{\\text{pred}}} & TV_{e_{\\text{pred}}} & P_{\\text{pred}} \\\\\n",
    "   \\end{bmatrix}\n",
    "   $$\n",
    "\n",
    "   - The final reconstructed dataset is obtained by concatenating the original dataset \\(D\\) with the interpolated data \\(I\\):\n",
    "   $$\n",
    "   D_{\\text{new}} = D \\cup I\n",
    "   $$"
   ]
  },
  {
   "cell_type": "code",
   "execution_count": 19,
   "metadata": {},
   "outputs": [
    {
     "ename": "NameError",
     "evalue": "name 'Boosted_TrainingSet' is not defined",
     "output_type": "error",
     "traceback": [
      "\u001b[0;31m---------------------------------------------------------------------------\u001b[0m",
      "\u001b[0;31mNameError\u001b[0m                                 Traceback (most recent call last)",
      "Cell \u001b[0;32mIn[19], line 3\u001b[0m\n\u001b[1;32m      1\u001b[0m start_time \u001b[38;5;241m=\u001b[39m time\u001b[38;5;241m.\u001b[39mtime()\n\u001b[0;32m----> 3\u001b[0m Boosted_TrainingSet \u001b[38;5;241m=\u001b[39m polynomial_area(\u001b[43mBoosted_TrainingSet\u001b[49m)\n\u001b[1;32m      4\u001b[0m Boosted_TrainingSet\u001b[38;5;241m.\u001b[39mto_csv(\u001b[38;5;124m\"\u001b[39m\u001b[38;5;124mFinal_TrainingSet.csv\u001b[39m\u001b[38;5;124m\"\u001b[39m)\n\u001b[1;32m      6\u001b[0m Boosted_MultiClass \u001b[38;5;241m=\u001b[39m polynomial_area(Boosted_MultiClass)\n",
      "\u001b[0;31mNameError\u001b[0m: name 'Boosted_TrainingSet' is not defined"
     ]
    }
   ],
   "source": [
    "start_time = time.time()\n",
    "\n",
    "Boosted_TrainingSet = polynomial_area(Boosted_TrainingSet)\n",
    "Boosted_TrainingSet.to_csv(\"Final_TrainingSet.csv\")\n",
    "\n",
    "Boosted_MultiClass = polynomial_area(Boosted_MultiClass)\n",
    "Boosted_MultiClass.to_csv(\"Final_MultiClass.csv\")\n",
    "\n",
    "Boosted_CrossValidation= polynomial_area(Boosted_CrossValidation)\n",
    "Boosted_CrossValidation.to_csv(\"Final_CrossValid.csv\")\n",
    "\n",
    "end_time = time.time()\n",
    "\n",
    "print(\"Execution time:\", (end_time - start_time))"
   ]
  }
 ],
 "metadata": {
  "kernelspec": {
   "display_name": "Python 3",
   "language": "python",
   "name": "python3"
  },
  "language_info": {
   "codemirror_mode": {
    "name": "ipython",
    "version": 3
   },
   "file_extension": ".py",
   "mimetype": "text/x-python",
   "name": "python",
   "nbconvert_exporter": "python",
   "pygments_lexer": "ipython3",
   "version": "3.12.7"
  }
 },
 "nbformat": 4,
 "nbformat_minor": 2
}
