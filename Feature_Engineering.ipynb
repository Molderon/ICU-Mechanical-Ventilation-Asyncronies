{
 "cells": [
  {
   "cell_type": "code",
   "execution_count": 1,
   "metadata": {},
   "outputs": [],
   "source": [
    "# --<Environment Libs>--\n",
    "from dataclasses import dataclass, field\n",
    "import sys, os, subprocess  \n",
    "import pip, time\n",
    "\n",
    "# --<DataScience>--\n",
    "import seaborn \n",
    "import numpy as np\n",
    "import pandas as pd\n",
    "import matplotlib.pyplot as plt\n",
    "\n",
    "from pandas.plotting import scatter_matrix\n",
    "from sklearn.model_selection import train_test_split\n",
    "\n",
    "from sklearn.preprocessing import StandardScaler\n",
    "from sklearn.metrics import mean_absolute_error\n",
    "from sklearn.model_selection import GroupShuffleSplit\n",
    "from sklearn.model_selection import GridSearchCV\n",
    "from sklearn.preprocessing import StandardScaler\n",
    "\n",
    "\n",
    "# --<Feature Engineering>--\n",
    "from sklearn.pipeline import Pipeline\n",
    "from sklearn.preprocessing import OneHotEncoder\n",
    "from sklearn.preprocessing import OrdinalEncoder\n",
    "from sklearn.base import BaseEstimator, TransformerMixin\n",
    "from sklearn.impute import SimpleImputer\n",
    "from scipy.interpolate import interp1d\n",
    "from scipy.interpolate import BSpline, splrep\n",
    "\n",
    "\n",
    "assert sys.version_info >= (3, 5)\n",
    "bScale: bool = False\n",
    "SingleSet: bool = True"
   ]
  },
  {
   "cell_type": "markdown",
   "metadata": {},
   "source": [
    "\n",
    "<img src=\"./hyst_loop.jpg\" alt=\"Hysteresis P/V Loop\" style=\"opacity: 0.8;\" />\n"
   ]
  },
  {
   "cell_type": "code",
   "execution_count": 2,
   "metadata": {},
   "outputs": [],
   "source": [
    "#setups\n",
    "plt.style.use('dark_background')\n",
    "csfont = {'fontname':'Comic Sans MS'}\n",
    "hfont = {'fontname':'Helvetica'}"
   ]
  },
  {
   "cell_type": "code",
   "execution_count": 3,
   "metadata": {},
   "outputs": [],
   "source": [
    "def Load_LowFeq_sets():\n",
    "    os.chdir(\"/home/molderon/Main/WorkSpace/Diploma Project/Feature Engineering/\")\n",
    "    Scale_Dataset = StandardScaler()\n",
    "\n",
    "    try:\n",
    "        if(SingleSet == False):\n",
    "            Training_Set = pd.DataFrame()\n",
    "            MultiCalss_validation = pd.DataFrame()\n",
    "            CrossValidation = pd.DataFrame()\n",
    "\n",
    "            Training_Set = pd.read_csv(\"TrainingSet.csv\")\n",
    "            MultiCalss_validation = pd.read_csv(\"MultiValid.csv\")\n",
    "            CrossValidation = pd.read_csv(\"CrossValid.csv\")\n",
    "\n",
    "            # Renaming bad naming concentions\n",
    "            Training_Set.columns = Training_Set.columns.str.replace(\"u_in\", \"TV-i\")\n",
    "            Training_Set.columns = Training_Set.columns.str.replace(\"u_out\", \"TV-e\")\n",
    "            MultiCalss_validation.columns = MultiCalss_validation.columns.str.replace(\"u_in\", \"TV-i\")\n",
    "            MultiCalss_validation.columns = MultiCalss_validation.columns.str.replace(\"u_out\", \"TV-e\")\n",
    "            CrossValidation.columns = CrossValidation.columns.str.replace(\"u_in\", \"TV-i\")\n",
    "            CrossValidation.columns = CrossValidation.columns.str.replace(\"u_out\", \"TV-e\")\n",
    "\n",
    "            #Droping useless weight\n",
    "            Training_Set.dropna()\n",
    "            MultiCalss_validation.dropna()\n",
    "            CrossValidation.dropna()\n",
    "\n",
    "            Training_Set = Training_Set.dropna(subset=['pressure'])\n",
    "            MultiCalss_validation = MultiCalss_validation.dropna(subset=['pressure'])\n",
    "            CrossValidation = CrossValidation.dropna(subset=['pressure'])\n",
    "\n",
    "            Training_Set.drop(Training_Set.columns[[0,1]], axis =1, inplace=True)\n",
    "            CrossValidation.drop(CrossValidation.columns[[0,1]], axis =1, inplace=True)\n",
    "            MultiCalss_validation.drop(MultiCalss_validation.columns[[0,1]], axis =1, inplace=True)\n",
    "\n",
    "            # Optional Scaling\n",
    "\n",
    "            if bScale == True:\n",
    "                Training_Set = Scale_Dataset(Training_Set)\n",
    "                MultiCalss_validation = Scale_Dataset(MultiCalss_validation)\n",
    "                CrossValidation = Scale_Dataset(CrossValidation)\n",
    "\n",
    "            print(Training_Set.describe())\n",
    "            return Training_Set, MultiCalss_validation, CrossValidation\n",
    "\n",
    "        else:\n",
    "            Full_Dataset = pd.DataFrame()\n",
    "            Full_Dataset = pd.read_csv(\"Default_MV_Data.csv\")\n",
    "\n",
    "            Full_Dataset.columns = Full_Dataset.columns.str.replace(\"u_in\", \"TV-i\")\n",
    "            Full_Dataset.columns = Full_Dataset.columns.str.replace(\"u_out\", \"TV-e\")\n",
    "            Full_Dataset.drop(Full_Dataset.columns[[0,1]], axis =1, inplace=True)\n",
    "            Full_Dataset.dropna()\n",
    "\n",
    "            if bScale == True:\n",
    "                Full_Dataset = Scale_Dataset(Full_Dataset)\n",
    "\n",
    "            return Full_Dataset\n",
    "        \n",
    "    except Exception:\n",
    "        print(Exception.with_traceback())\n",
    "        return None"
   ]
  },
  {
   "cell_type": "code",
   "execution_count": 59,
   "metadata": {},
   "outputs": [
    {
     "data": {
      "text/plain": [
       "array([[<Axes: title={'center': 'R'}>, <Axes: title={'center': 'C'}>],\n",
       "       [<Axes: title={'center': 'time_step'}>,\n",
       "        <Axes: title={'center': 'TV-i'}>],\n",
       "       [<Axes: title={'center': 'TV-e'}>,\n",
       "        <Axes: title={'center': 'pressure'}>]], dtype=object)"
      ]
     },
     "execution_count": 59,
     "metadata": {},
     "output_type": "execute_result"
    }
   ],
   "source": [
    "Training_Set.iloc[:,1:].hist(bins = 50, figsize=(20,15))"
   ]
  },
  {
   "cell_type": "markdown",
   "metadata": {},
   "source": [
    "># ⚠️ **Conditional Warning: Time-Intensive Operation**\n",
    "> **Condition: Datasets larger than: 300 Mbytes**"
   ]
  },
  {
   "cell_type": "code",
   "execution_count": null,
   "metadata": {},
   "outputs": [],
   "source": [
    "def Draw_ScatterMatrix(Dataset: pd.DataFrame):    \n",
    "    set_attributes: list = [\"pressure\", \"TV-e\", \"TV-i\",\"R\", \"C\", \"time_step\"]\n",
    "    scatter_matrix(Dataset[set_attributes], figsize=(12,8))"
   ]
  },
  {
   "cell_type": "markdown",
   "metadata": {},
   "source": [
    "<img src=\"./Scatter_Matrix.png\" alt=\"Scatter Matrix\" style=\"opacity: 1;\" />"
   ]
  },
  {
   "cell_type": "markdown",
   "metadata": {},
   "source": [
    "## >> |Open Questions\n",
    "- Q: What is the data frequency of an individual Breath ?\n",
    "- A: Frequency ​≈ 16.67 Hz\n",
    "- Q: Does the timestep for individual readings remain **consistant** ?\n",
    "- A: Not consistant, it's voletile between the ranges **(59 - 64 miliseconds)**\n",
    "\n",
    "## Conclusions:\n",
    "- (16.67)Hz * (60)milliseconds = 1 sec.\n",
    "- Avg. breath cycle is 2.7 sec = **~ (50 * 7)** datapoints per breath"
   ]
  },
  {
   "cell_type": "markdown",
   "metadata": {},
   "source": [
    "## >> |Feature Engineering\n",
    "- Feature **A)** Reconstruction of sythetic datapoints: **Increase frequiency to ~ (32)Hz/sec.**\n",
    "- Feature **B)** Create a custom **Hysteresis Cycle Metric** for each breath id."
   ]
  },
  {
   "cell_type": "markdown",
   "metadata": {},
   "source": [
    "<img src=\"./boosted.png\" alt=\"Scatter Matrix\" style=\"opacity: 1;\" />"
   ]
  },
  {
   "cell_type": "markdown",
   "metadata": {},
   "source": [
    ">## Interpolation of each Dataset\n",
    "- Training Set\n",
    "- MultiClass_validation Set\n",
    "- Corss-Validation Set"
   ]
  },
  {
   "cell_type": "code",
   "execution_count": 22,
   "metadata": {},
   "outputs": [],
   "source": [
    "def Example_Dataset(DataSet: pd.DataFrame):\n",
    "    ExampleSet = pd.DataFrame()\n",
    "    gss = GroupShuffleSplit(test_size=0.70, random_state=42) # loads 10% of Given Dataset\n",
    "    for idx, _ in gss.split(DataSet, groups=DataSet['breath_id']):\n",
    "        ExampleSet = DataSet.iloc[idx]\n",
    "    return ExampleSet"
   ]
  },
  {
   "cell_type": "code",
   "execution_count": 5,
   "metadata": {},
   "outputs": [],
   "source": [
    "# '0' == 2x the dataset Frequiency\n",
    "# 'n' == 2x+n the dataset Frequency\n",
    "Interloper: int = 10"
   ]
  },
  {
   "cell_type": "code",
   "execution_count": 101,
   "metadata": {},
   "outputs": [],
   "source": [
    "def Reconstruct_Cycle(DataSet: pd.DataFrame, Single_Cycle: pd.DataFrame, Interloper: int):\n",
    "    X_features = Single_Cycle[['time_step', 'R', 'C', 'TV-i', 'TV-e']].values\n",
    "    Y_target = Single_Cycle['pressure'].values\n",
    "\n",
    "    Interloper += (Single_Cycle.shape[0] - 15)\n",
    "    #Hard-Cap, data becomes to noise\n",
    "    if(Interloper > 60): Interloper = 60\n",
    "    Synthetic_Timestep = np.linspace(Single_Cycle['time_step'].min(), Single_Cycle['time_step'].max(), Interloper)\n",
    "\n",
    "    Symetra = splrep(Single_Cycle['time_step'], Y_target, s=0)\n",
    "    Pressure_Prediction = BSpline(*Symetra)(Synthetic_Timestep)\n",
    "\n",
    "    def reconstruct_variable(target_column):\n",
    "        Y_target = Single_Cycle[target_column].values\n",
    "        tck = splrep(Single_Cycle['time_step'], Y_target, s=3)  \n",
    "        return BSpline(*tck)(Synthetic_Timestep)\n",
    "\n",
    "    # Reconstruct other variables\n",
    "    TV_i_pred = reconstruct_variable('TV-i')\n",
    "    TV_e_pred = reconstruct_variable('TV-e')\n",
    "    R_pred = reconstruct_variable('R')\n",
    "    C_pred = reconstruct_variable('C')\n",
    "\n",
    "    breath_id = Single_Cycle['breath_id'].values[0]\n",
    "    Interpolated_Data = pd.DataFrame({\n",
    "        'breath_id': np.full(Synthetic_Timestep.shape, breath_id),  \n",
    "        'C': C_pred,\n",
    "        'time_step': Synthetic_Timestep,\n",
    "        'TV-i': TV_i_pred,\n",
    "        'TV-e': TV_e_pred,\n",
    "        'pressure': Pressure_Prediction\n",
    "    })\n",
    "    Interloper = 0\n",
    "    DataSet = pd.concat([DataSet, Interpolated_Data], ignore_index=True)\n",
    "    \n",
    "    return DataSet"
   ]
  },
  {
   "cell_type": "code",
   "execution_count": 98,
   "metadata": {},
   "outputs": [],
   "source": [
    "def Reconstruct_Dataset(DataSet: pd.DataFrame, dataset_name: str, Interloper:int)-> pd.DataFrame:\n",
    "    Single_Cycle = pd.DataFrame()\n",
    "    for breath_id, group in DataSet.groupby('breath_id'):\n",
    "        Single_Cycle = group.sort_values(by='time_step').copy()\n",
    "        DataSet = Reconstruct_Cycle(DataSet, Single_Cycle, Interloper)\n",
    "\n",
    "    DataSet.to_csv(dataset_name)\n",
    "    \n",
    "    return DataSet"
   ]
  },
  {
   "cell_type": "markdown",
   "metadata": {},
   "source": [
    "># ⚠️ **Warning: Time-Intensive Operation**\n",
    ">\n",
    "> The interpolation process you're about to run is computationally expensive and may take **several hours** to complete, the author advices to use small sliced datasets.\n",
    "># **Beware**\n",
    ">\n",
    "> - Ensure that your system has sufficient resources (CPU/RAM) to handle the process.\n",
    "> - Avoid interrupting the process once it has started.\n",
    "> - If possible, run this operation on a machine that will not be needed for other tasks during execution.\n"
   ]
  },
  {
   "cell_type": "markdown",
   "metadata": {},
   "source": [
    "# Data Interpolation\n",
    " **Default Datapoints (Left) - 16 Hz/sec**   |   **Interpolation (Right) - 32 Hz/sec**"
   ]
  },
  {
   "cell_type": "code",
   "execution_count": 96,
   "metadata": {},
   "outputs": [],
   "source": [
    "def Interpolation():\n",
    "      import time,warnings\n",
    "      # Suppress specific Pandas warnings\n",
    "      warnings.filterwarnings(\"ignore\", category=pd.errors.PerformanceWarning)\n",
    "      warnings.filterwarnings(\"ignore\")\n",
    "      Boosted_Dataset = pd.DataFrame()\n",
    "      start = time.time()\n",
    "      pd.options.mode.chained_assignment = None\n",
    "      \n",
    "      Boosted_Dataset = Load_LowFeq_sets()      \n",
    "      Boosted_Dataset = Reconstruct_Dataset(Boosted_Dataset, \"Boosted_MV.csv\", Interloper)\n",
    "      \n",
    "      ''' //Example for splitted sets\n",
    "            Boosted_TrainingSet = Reconstruct_Dataset(Training_Set,\"Boosted_TrainingSet.csv.csv\", Interloper)\n",
    "            Boosted_MultiClass =  Reconstruct_Dataset(CrossValidation,\"Boosted_MultiClass.csv\", Interloper)\n",
    "            Boosted_CrossValidation = Reconstruct_Dataset(MultiCalss_validation,\"Boosted_CrossValidation.csv\", Interloper)\n",
    "      '''\n",
    "      \n",
    "      end = time.time()\n",
    "      print(\"Total time for interpolations is :\",\n",
    "            (end-start)/60, \"Min\")"
   ]
  },
  {
   "cell_type": "code",
   "execution_count": 111,
   "metadata": {},
   "outputs": [
    {
     "name": "stdout",
     "output_type": "stream",
     "text": [
      "Total time for interpolations is : 229.17649847269058 Min\n"
     ]
    }
   ],
   "source": [
    "Interpolation()"
   ]
  },
  {
   "cell_type": "markdown",
   "metadata": {},
   "source": [
    "### Interpolation Description:\n",
    "\n",
    "\n",
    "1. **Input Features**: \n",
    "   $$\n",
    "   X = [\\text{time\\_step}, R, C, TV_{i}, TV_{e}] \\in \\mathbb{R}^{n \\times m}\n",
    "   $$\n",
    "   where \\(n\\) is the number of samples and \\(m\\) is the number of features.\n",
    "\n",
    "   - \\(Y\\) is defined as the target variable:\n",
    "   $$\n",
    "   Y = \\text{pressure} \\in \\mathbb{R}^{n}\n",
    "   $$\n",
    "\n",
    "2. **Synthetic Time Steps**: \n",
    "   - The number of interpolated points  :\n",
    "   $$\n",
    "   n_{\\text{interloper}} = n + I\n",
    "   $$\n",
    "   where \\(I\\) is the additional points specified by the user.\n",
    "\n",
    "   - A synthetic time step vector is created:\n",
    "   $$\n",
    "   t_{\\text{synthetic}} = \\text{linspace}(t_{\\text{min}}, t_{\\text{max}}, n_{\\text{interloper}})\n",
    "   $$\n",
    "\n",
    "3. **Pressure Prediction Using B-Splines**: \n",
    "   - The B-spline representation of the pressure is generated using the `splrep` function:\n",
    "   $$\n",
    "   tck_{\\text{pressure}} = \\text{splrep}(S[\\text{time\\_step}], Y, s=0)\n",
    "   $$\n",
    "   - The predicted pressure values at synthetic time steps are calculated as:\n",
    "   $$\n",
    "   P_{\\text{pred}} = BSpline(tck_{\\text{pressure}})(t_{\\text{synthetic}})\n",
    "   $$\n",
    "\n",
    "4. **Variable Reconstruction**:\n",
    "   - A nested function is defined to reconstruct other variables in the dataset:\n",
    "   $$\n",
    "   V_{\\text{pred}} = BSpline(tck_{\\text{variable}})(t_{\\text{synthetic}})\n",
    "   $$\n",
    "\n",
    "   - This is computed as:\n",
    "   $$\n",
    "   tck_{\\text{variable}} = \\text{splrep}(S[\\text{time\\_step}], S[\\text{variable}], s=3)\n",
    "   $$\n",
    "\n",
    "5. **Constructing the Output DataFrame**: \n",
    "   - Finally, an interpolated dataset \\(I\\) is created:\n",
    "   $$\n",
    "   I = \\begin{bmatrix}\n",
    "   \\text{breath\\_id} & C_{\\text{pred}} & t_{\\text{synthetic}} & TV_{i_{\\text{pred}}} & TV_{e_{\\text{pred}}} & P_{\\text{pred}} \\\\\n",
    "   \\end{bmatrix}\n",
    "   $$\n",
    "\n",
    "   - The final reconstructed dataset is obtained by concatenating the original dataset \\(D\\) with the interpolated data \\(I\\):\n",
    "   $$\n",
    "   D_{\\text{new}} = D \\cup I\n",
    "   $$"
   ]
  },
  {
   "cell_type": "markdown",
   "metadata": {},
   "source": [
    "<img src=\"./17Hz.png\" alt=\"Scatter Matrix\" style=\"opacity: 1;\" />\n",
    "<img src=\"./32Hz.png\" alt=\"Scatter Matrix\" style=\"opacity: 1;\" />"
   ]
  },
  {
   "cell_type": "code",
   "execution_count": 19,
   "metadata": {},
   "outputs": [],
   "source": [
    "Boosted_Dataset = pd.read_csv(\"Boosted_MV.csv\")"
   ]
  },
  {
   "cell_type": "code",
   "execution_count": 20,
   "metadata": {},
   "outputs": [
    {
     "data": {
      "text/html": [
       "<div>\n",
       "<style scoped>\n",
       "    .dataframe tbody tr th:only-of-type {\n",
       "        vertical-align: middle;\n",
       "    }\n",
       "\n",
       "    .dataframe tbody tr th {\n",
       "        vertical-align: top;\n",
       "    }\n",
       "\n",
       "    .dataframe thead th {\n",
       "        text-align: right;\n",
       "    }\n",
       "</style>\n",
       "<table border=\"1\" class=\"dataframe\">\n",
       "  <thead>\n",
       "    <tr style=\"text-align: right;\">\n",
       "      <th></th>\n",
       "      <th>breath_id</th>\n",
       "      <th>R</th>\n",
       "      <th>C</th>\n",
       "      <th>time_step</th>\n",
       "      <th>TV-i</th>\n",
       "      <th>TV-e</th>\n",
       "      <th>pressure</th>\n",
       "    </tr>\n",
       "  </thead>\n",
       "  <tbody>\n",
       "    <tr>\n",
       "      <th>0</th>\n",
       "      <td>1.0</td>\n",
       "      <td>20.0</td>\n",
       "      <td>50.0</td>\n",
       "      <td>0.000000</td>\n",
       "      <td>0.083334</td>\n",
       "      <td>0.0</td>\n",
       "      <td>5.837492</td>\n",
       "    </tr>\n",
       "    <tr>\n",
       "      <th>1</th>\n",
       "      <td>1.0</td>\n",
       "      <td>20.0</td>\n",
       "      <td>50.0</td>\n",
       "      <td>0.033652</td>\n",
       "      <td>18.383041</td>\n",
       "      <td>0.0</td>\n",
       "      <td>5.907794</td>\n",
       "    </tr>\n",
       "    <tr>\n",
       "      <th>2</th>\n",
       "      <td>1.0</td>\n",
       "      <td>20.0</td>\n",
       "      <td>50.0</td>\n",
       "      <td>0.067514</td>\n",
       "      <td>22.509278</td>\n",
       "      <td>0.0</td>\n",
       "      <td>7.876254</td>\n",
       "    </tr>\n",
       "    <tr>\n",
       "      <th>3</th>\n",
       "      <td>1.0</td>\n",
       "      <td>20.0</td>\n",
       "      <td>50.0</td>\n",
       "      <td>0.101542</td>\n",
       "      <td>22.808822</td>\n",
       "      <td>0.0</td>\n",
       "      <td>11.742872</td>\n",
       "    </tr>\n",
       "    <tr>\n",
       "      <th>4</th>\n",
       "      <td>1.0</td>\n",
       "      <td>20.0</td>\n",
       "      <td>50.0</td>\n",
       "      <td>0.135756</td>\n",
       "      <td>25.355850</td>\n",
       "      <td>0.0</td>\n",
       "      <td>12.234987</td>\n",
       "    </tr>\n",
       "  </tbody>\n",
       "</table>\n",
       "</div>"
      ],
      "text/plain": [
       "   breath_id     R     C  time_step       TV-i  TV-e   pressure\n",
       "0        1.0  20.0  50.0   0.000000   0.083334   0.0   5.837492\n",
       "1        1.0  20.0  50.0   0.033652  18.383041   0.0   5.907794\n",
       "2        1.0  20.0  50.0   0.067514  22.509278   0.0   7.876254\n",
       "3        1.0  20.0  50.0   0.101542  22.808822   0.0  11.742872\n",
       "4        1.0  20.0  50.0   0.135756  25.355850   0.0  12.234987"
      ]
     },
     "execution_count": 20,
     "metadata": {},
     "output_type": "execute_result"
    }
   ],
   "source": [
    "Boosted_Dataset.drop(Boosted_Dataset.columns[[0]], axis=1, inplace=True)\n",
    "Boosted_Dataset.head()"
   ]
  },
  {
   "cell_type": "code",
   "execution_count": 13,
   "metadata": {},
   "outputs": [],
   "source": [
    "def Plot_Hysteresis(Hysteresis_Dynamics: pd.DataFrame):\n",
    "    TV_i = np.array(Hysteresis_Dynamics['TV-i'])\n",
    "    TV_e = np.array(Hysteresis_Dynamics['TV-e'])\n",
    "    pressure = np.array(Hysteresis_Dynamics['pressure'])\n",
    "\n",
    "    TV_total = TV_i + TV_e\n",
    "\n",
    "    plt.ion() \n",
    "    fig, ax = plt.subplots()\n",
    "    line, = ax.plot([], [], marker='o', linestyle='-', color='b', label='Hysteresis (TV-total / Pressure)')\n",
    "\n",
    "    ax.set_title('Hysteresis Loop: TV-total/Pressure - 32Hz')\n",
    "    ax.set_xlabel('TV-total (TV-i + TV-e)')\n",
    "    ax.set_ylabel('Pressure')\n",
    "    ax.legend()\n",
    "\n",
    "    def update_plot(x_data, y_data):\n",
    "        line.set_data(x_data, y_data)\n",
    "        ax.relim()          \n",
    "        ax.autoscale_view() \n",
    "        fig.canvas.draw()   \n",
    "        fig.canvas.flush_events() \n",
    "\n",
    "    for i in range(len(TV_total)):\n",
    "        update_plot(TV_total[:i+1], pressure[:i+1])\n",
    "\n",
    "    plt.ioff()\n",
    "    plt.show()"
   ]
  },
  {
   "cell_type": "markdown",
   "metadata": {},
   "source": [
    "># Polynomial Hysteresis Area "
   ]
  },
  {
   "cell_type": "code",
   "execution_count": 25,
   "metadata": {},
   "outputs": [],
   "source": [
    "def polynomial_area(Hysteresis_Sample: pd.DataFrame):\n",
    "    Tidal_Volume = Hysteresis_Sample[\"TV-i\"] +  Hysteresis_Sample[\"TV-e\"]\n",
    "    Apparent_Pressure = Hysteresis_Sample[\"pressure\"]\n",
    "    Polynomial_Area = np.abs(np.trapz(Apparent_Pressure, Tidal_Volume))\n",
    "\n",
    "    Hysteresis_Sample[\"Polynomial_Area\"] = Polynomial_Area\n",
    "\n",
    "    return Hysteresis_Sample\n",
    "\n",
    "\n",
    "def Feature_HysteresisArea(DataSet: pd.DataFrame):\n",
    "    DataSet = DataSet.sort_values(by=['breath_id', 'time_step']).copy()\n",
    "    Featurefull_Rows = []\n",
    "\n",
    "    for breath_id, group in DataSet.groupby('breath_id'):\n",
    "        Hysteresis_Sample = polynomial_area(group)  \n",
    "        Featurefull_Rows.append(Hysteresis_Sample)\n",
    "\n",
    "    DataSet = pd.concat(Featurefull_Rows, ignore_index=True)\n",
    "\n",
    "    return DataSet\n"
   ]
  },
  {
   "cell_type": "markdown",
   "metadata": {},
   "source": [
    ">## Feature Engineering\n",
    "- **Pressure/Volume Loop** "
   ]
  },
  {
   "cell_type": "code",
   "execution_count": 26,
   "metadata": {},
   "outputs": [],
   "source": [
    "def Hysteresis_Area_Metric(Full_Dataset: pd.DataFrame):\n",
    "    os.chdir(\"/home/molderon/Main/WorkSpace/Diploma Project/Classification Algorithms/\")\n",
    "    start_time = time.time()\n",
    "\n",
    "    if(SingleSet == False):\n",
    "        Boosted_TrainingSet = Feature_HysteresisArea(Boosted_TrainingSet)\n",
    "        Boosted_TrainingSet.to_csv(\"Cluster_TrainingSet.csv\")\n",
    "\n",
    "        Boosted_MultiClass = Feature_HysteresisArea(Boosted_MultiClass)\n",
    "        Boosted_MultiClass.to_csv(\"Cluster_MultiClass.csv\")\n",
    "\n",
    "        Boosted_CrossValidation= Feature_HysteresisArea(Boosted_CrossValidation)\n",
    "        Boosted_CrossValidation.to_csv(\"Cluster_CrossValid.csv\")\n",
    "    else:\n",
    "        Full_Dataset = Feature_HysteresisArea(Full_Dataset)\n",
    "        Full_Dataset.to_csv(\"Full_CusterSet.csv\")\n",
    "\n",
    "    end_time = time.time()\n",
    "\n",
    "    print(\"Execution time:\", (end_time - start_time)/60, \"::mins\")"
   ]
  },
  {
   "cell_type": "markdown",
   "metadata": {},
   "source": [
    "# |Creating P/V cycles as a feature\n",
    "- **Working with the Interloped Datasets _~(32Hz)~_**\n",
    "\n",
    "- **The area of the polygon can be calculated using the formula:**\n",
    "\n",
    "$$\n",
    "A = \\frac{1}{2} \\left| \\sum_{i=1}^{n} \\left( x_i \\cdot y_{i+1} - y_i \\cdot x_{i+1} \\right) \\right|\n",
    "$$\n",
    "\n",
    "Where:\n",
    "- \\(x_i\\) and \\(y_i\\) are the coordinates of the polygon's vertices.\n",
    "- The indices wrap around, i.e., \\(y_{n+1} = y_1\\) and \\(x_{n+1} = x_1\\).\n",
    "> __________________________________________________________________________________________________________________________________________________________________________________________________________________________________________________________________________________________________________________________________________________________________________________________________________________________________\n",
    "\n",
    "### Area Calculation Using the Trapezoidal Rule\n",
    "\n",
    "The area under a curve defined by discrete points can be calculated using the **trapezoidal rule**, which approximates the integral of the function. Given a set of points \\((x_i, y_i)\\), the area \\(A\\) under the curve from \\(x_1\\) to \\(x_n\\) can be represented mathematically as:\n",
    "\n",
    "$$\n",
    "A = \\int_{a}^{b} f(x) \\, dx \\approx \\sum_{i=1}^{n-1} \\frac{(y_i + y_{i+1})}{2} (x_{i+1} - x_i)\n",
    "$$\n",
    "\n",
    "Where:\n",
    "- \\( A \\) is the approximate area under the curve.\n",
    "- \\( n \\) is the number of discrete points.\n",
    "- \\( x_i \\) are the \\( x \\)-coordinates of the points.\n",
    "- \\( y_i \\) are the \\( y \\)-coordinates of the points.\n",
    "- The term \\(\\frac{(y_i + y_{i+1})}{2}\\) represents the average height of the function between \\(x_i\\) and \\(x_{i+1}\\).\n",
    "- The difference \\((x_{i+1} - x_i)\\) represents the width of the interval.\n",
    "\n",
    "In the context of the provided code:\n",
    "**Area Calculation**:\n",
    "   The area is calculated as follows:\n",
    "\n",
    "$$\n",
    "\\text{area} = |A| = \\left| \\int_{x_{\\text{closed}}} y_{\\text{closed}} \\, dx \\right| \\approx \\text{np.abs}\\left(\\text{np.trapz}(y_{\\text{closed}}, x_{\\text{closed}})\\right)\n",
    "$$\n"
   ]
  },
  {
   "cell_type": "code",
   "execution_count": 28,
   "metadata": {},
   "outputs": [
    {
     "name": "stdout",
     "output_type": "stream",
     "text": [
      "Execution time: 2.561593206723531 ::mins\n"
     ]
    }
   ],
   "source": [
    "\n",
    "Boosted_Dataset = pd.DataFrame()\n",
    "Boosted_Dataset = pd.read_csv(\"Boosted_MV.csv\")\n",
    "Hysteresis_Area_Metric(Boosted_Dataset)"
   ]
  },
  {
   "cell_type": "markdown",
   "metadata": {},
   "source": [
    "# |Cleaning The DataSet"
   ]
  },
  {
   "cell_type": "code",
   "execution_count": 10,
   "metadata": {},
   "outputs": [],
   "source": [
    "os.chdir(\"/home/molderon/Main/WorkSpace/Diploma Project/Classification Algorithms/\")\n",
    "Final_ClusterSet = pd.read_csv(\"ClusterSet.csv\")"
   ]
  },
  {
   "cell_type": "code",
   "execution_count": 8,
   "metadata": {},
   "outputs": [],
   "source": [
    "Final_ClusterSet.drop(Final_ClusterSet.columns[[0,1]], axis =1, inplace=True)"
   ]
  },
  {
   "cell_type": "code",
   "execution_count": 11,
   "metadata": {},
   "outputs": [
    {
     "data": {
      "text/html": [
       "<div>\n",
       "<style scoped>\n",
       "    .dataframe tbody tr th:only-of-type {\n",
       "        vertical-align: middle;\n",
       "    }\n",
       "\n",
       "    .dataframe tbody tr th {\n",
       "        vertical-align: top;\n",
       "    }\n",
       "\n",
       "    .dataframe thead th {\n",
       "        text-align: right;\n",
       "    }\n",
       "</style>\n",
       "<table border=\"1\" class=\"dataframe\">\n",
       "  <thead>\n",
       "    <tr style=\"text-align: right;\">\n",
       "      <th></th>\n",
       "      <th>Unnamed: 0</th>\n",
       "      <th>breath_id</th>\n",
       "      <th>R</th>\n",
       "      <th>C</th>\n",
       "      <th>time_step</th>\n",
       "      <th>TV-i</th>\n",
       "      <th>TV-e</th>\n",
       "      <th>pressure</th>\n",
       "      <th>Polynomial_Area</th>\n",
       "    </tr>\n",
       "  </thead>\n",
       "  <tbody>\n",
       "    <tr>\n",
       "      <th>0</th>\n",
       "      <td>280</td>\n",
       "      <td>2.0</td>\n",
       "      <td>20.0</td>\n",
       "      <td>20.0</td>\n",
       "      <td>0.000000</td>\n",
       "      <td>12.184338</td>\n",
       "      <td>0.0</td>\n",
       "      <td>6.048398</td>\n",
       "      <td>149.378761</td>\n",
       "    </tr>\n",
       "    <tr>\n",
       "      <th>1</th>\n",
       "      <td>282</td>\n",
       "      <td>2.0</td>\n",
       "      <td>20.0</td>\n",
       "      <td>20.0</td>\n",
       "      <td>0.033998</td>\n",
       "      <td>13.980205</td>\n",
       "      <td>0.0</td>\n",
       "      <td>7.524743</td>\n",
       "      <td>149.378761</td>\n",
       "    </tr>\n",
       "    <tr>\n",
       "      <th>2</th>\n",
       "      <td>284</td>\n",
       "      <td>2.0</td>\n",
       "      <td>20.0</td>\n",
       "      <td>20.0</td>\n",
       "      <td>0.068151</td>\n",
       "      <td>12.574163</td>\n",
       "      <td>0.0</td>\n",
       "      <td>9.282297</td>\n",
       "      <td>149.378761</td>\n",
       "    </tr>\n",
       "    <tr>\n",
       "      <th>3</th>\n",
       "      <td>286</td>\n",
       "      <td>2.0</td>\n",
       "      <td>20.0</td>\n",
       "      <td>20.0</td>\n",
       "      <td>0.102062</td>\n",
       "      <td>11.730537</td>\n",
       "      <td>0.0</td>\n",
       "      <td>10.336829</td>\n",
       "      <td>149.378761</td>\n",
       "    </tr>\n",
       "    <tr>\n",
       "      <th>4</th>\n",
       "      <td>287</td>\n",
       "      <td>2.0</td>\n",
       "      <td>20.0</td>\n",
       "      <td>20.0</td>\n",
       "      <td>0.135917</td>\n",
       "      <td>12.124229</td>\n",
       "      <td>0.0</td>\n",
       "      <td>9.844714</td>\n",
       "      <td>149.378761</td>\n",
       "    </tr>\n",
       "  </tbody>\n",
       "</table>\n",
       "</div>"
      ],
      "text/plain": [
       "   Unnamed: 0  breath_id     R     C  time_step       TV-i  TV-e   pressure  \\\n",
       "0         280        2.0  20.0  20.0   0.000000  12.184338   0.0   6.048398   \n",
       "1         282        2.0  20.0  20.0   0.033998  13.980205   0.0   7.524743   \n",
       "2         284        2.0  20.0  20.0   0.068151  12.574163   0.0   9.282297   \n",
       "3         286        2.0  20.0  20.0   0.102062  11.730537   0.0  10.336829   \n",
       "4         287        2.0  20.0  20.0   0.135917  12.124229   0.0   9.844714   \n",
       "\n",
       "   Polynomial_Area  \n",
       "0       149.378761  \n",
       "1       149.378761  \n",
       "2       149.378761  \n",
       "3       149.378761  \n",
       "4       149.378761  "
      ]
     },
     "execution_count": 11,
     "metadata": {},
     "output_type": "execute_result"
    }
   ],
   "source": [
    "Final_ClusterSet.head()"
   ]
  },
  {
   "cell_type": "code",
   "execution_count": 21,
   "metadata": {},
   "outputs": [
    {
     "data": {
      "image/png": "[encoded data removed]",
      "text/plain": [
       "<Figure size 640x480 with 1 Axes>"
      ]
     },
     "metadata": {},
     "output_type": "display_data"
    }
   ],
   "source": [
    "Random_ids = pd.DataFrame()\n",
    "Random_ids = Final_ClusterSet[Final_ClusterSet['breath_id'] == 727.0 ].copy()\n",
    "Random_ids = Random_ids.sort_values(by=\"time_step\")\n",
    "\n",
    "Hysteresis_Dynamics: dict = field(default_factory=dict)\n",
    "target_columns = [\"TV-i\", \"TV-e\",\"pressure\", \"R\", \"C\", \"time_step\"]\n",
    "\n",
    "Hysteresis_Dynamics = Random_ids[target_columns].to_dict(orient ='list')\n",
    "Plot_Hysteresis(Hysteresis_Dynamics)"
   ]
  },
  {
   "cell_type": "code",
   "execution_count": 82,
   "metadata": {},
   "outputs": [],
   "source": [
    "Final_ClusterSet.to_csv(\"Final_ClusterSet.csv\")"
   ]
  }
 ],
 "metadata": {
  "kernelspec": {
   "display_name": "Python 3",
   "language": "python",
   "name": "python3"
  },
  "language_info": {
   "codemirror_mode": {
    "name": "ipython",
    "version": 3
   },
   "file_extension": ".py",
   "mimetype": "text/x-python",
   "name": "python",
   "nbconvert_exporter": "python",
   "pygments_lexer": "ipython3",
   "version": "3.12.7"
  }
 },
 "nbformat": 4,
 "nbformat_minor": 2
}
