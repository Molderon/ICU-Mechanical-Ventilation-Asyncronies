{
 "cells": [
  {
   "cell_type": "code",
   "execution_count": null,
   "id": "16c19dc8",
   "metadata": {},
   "outputs": [],
   "source": [
    "import xgboost as xgb\n",
    "import pandas as pd\n",
    "import numpy as np\n",
    "from sklearn.metrics import accuracy_score, classification_report, confusion_matrix\n",
    "from sklearn.model_selection import train_test_split, GridSearchCV\n",
    "import os\n",
    "from sklearn.preprocessing import LabelEncoder\n",
    "\n",
    "\n",
    "new_datasets_path:str = \"\"\n",
    "image_path:str = \"\"\n",
    "root: str = \"\"\n",
    "dataset_path : str = \"\"\n",
    "Save_path = \"\"\n",
    "Model_Path = \"\""
   ]
  },
  {
   "cell_type": "code",
   "execution_count": null,
   "id": "6af1954e",
   "metadata": {},
   "outputs": [],
   "source": [
    "os.chdir(new_datasets_path)\n",
    "DataSet = pd.DataFrame()\n",
    "DataSet = pd.read_csv(\"Final_Dataset.csv\")"
   ]
  },
  {
   "cell_type": "code",
   "execution_count": 28,
   "id": "0038349d",
   "metadata": {},
   "outputs": [
    {
     "data": {
      "text/html": [
       "<div>\n",
       "<style scoped>\n",
       "    .dataframe tbody tr th:only-of-type {\n",
       "        vertical-align: middle;\n",
       "    }\n",
       "\n",
       "    .dataframe tbody tr th {\n",
       "        vertical-align: top;\n",
       "    }\n",
       "\n",
       "    .dataframe thead th {\n",
       "        text-align: right;\n",
       "    }\n",
       "</style>\n",
       "<table border=\"1\" class=\"dataframe\">\n",
       "  <thead>\n",
       "    <tr style=\"text-align: right;\">\n",
       "      <th></th>\n",
       "      <th>u_in_std</th>\n",
       "      <th>pressure_std</th>\n",
       "      <th>Polynomial_Area</th>\n",
       "      <th>Hull_Area</th>\n",
       "      <th>ft_TV_1</th>\n",
       "      <th>ft_TV_2</th>\n",
       "      <th>ft_TV_3</th>\n",
       "      <th>ft_TV_4</th>\n",
       "      <th>ft_TV_5</th>\n",
       "      <th>ft_P_1</th>\n",
       "      <th>...</th>\n",
       "      <th>ft_P_3</th>\n",
       "      <th>ft_P_4</th>\n",
       "      <th>ft_P_5</th>\n",
       "      <th>Perimeter</th>\n",
       "      <th>Width</th>\n",
       "      <th>Height</th>\n",
       "      <th>Centroid_X</th>\n",
       "      <th>Centroid_Y</th>\n",
       "      <th>Curvature</th>\n",
       "      <th>Cluster</th>\n",
       "    </tr>\n",
       "  </thead>\n",
       "  <tbody>\n",
       "    <tr>\n",
       "      <th>0</th>\n",
       "      <td>0.000000</td>\n",
       "      <td>0.000000</td>\n",
       "      <td>282.157479</td>\n",
       "      <td>350.167422</td>\n",
       "      <td>484.607933</td>\n",
       "      <td>183.391093</td>\n",
       "      <td>68.468914</td>\n",
       "      <td>56.159057</td>\n",
       "      <td>51.404353</td>\n",
       "      <td>1082.775828</td>\n",
       "      <td>...</td>\n",
       "      <td>164.998616</td>\n",
       "      <td>67.671789</td>\n",
       "      <td>116.198749</td>\n",
       "      <td>122.759376</td>\n",
       "      <td>18.353980</td>\n",
       "      <td>22.777895</td>\n",
       "      <td>6.057599</td>\n",
       "      <td>13.534698</td>\n",
       "      <td>11.190253</td>\n",
       "      <td>0</td>\n",
       "    </tr>\n",
       "    <tr>\n",
       "      <th>1</th>\n",
       "      <td>0.000000</td>\n",
       "      <td>0.000000</td>\n",
       "      <td>28.139413</td>\n",
       "      <td>74.872299</td>\n",
       "      <td>300.129994</td>\n",
       "      <td>60.284442</td>\n",
       "      <td>68.542576</td>\n",
       "      <td>55.210521</td>\n",
       "      <td>40.204153</td>\n",
       "      <td>642.684398</td>\n",
       "      <td>...</td>\n",
       "      <td>52.755145</td>\n",
       "      <td>37.449278</td>\n",
       "      <td>53.714602</td>\n",
       "      <td>65.228595</td>\n",
       "      <td>8.975885</td>\n",
       "      <td>9.982905</td>\n",
       "      <td>3.751625</td>\n",
       "      <td>8.033555</td>\n",
       "      <td>13.949885</td>\n",
       "      <td>1</td>\n",
       "    </tr>\n",
       "    <tr>\n",
       "      <th>2</th>\n",
       "      <td>-1.221946</td>\n",
       "      <td>-0.984998</td>\n",
       "      <td>218.777887</td>\n",
       "      <td>272.316931</td>\n",
       "      <td>477.517065</td>\n",
       "      <td>167.435953</td>\n",
       "      <td>75.304841</td>\n",
       "      <td>40.280884</td>\n",
       "      <td>57.576735</td>\n",
       "      <td>1046.921734</td>\n",
       "      <td>...</td>\n",
       "      <td>175.425250</td>\n",
       "      <td>41.169516</td>\n",
       "      <td>109.287272</td>\n",
       "      <td>111.338845</td>\n",
       "      <td>16.383765</td>\n",
       "      <td>21.793665</td>\n",
       "      <td>5.968963</td>\n",
       "      <td>13.086522</td>\n",
       "      <td>4.491883</td>\n",
       "      <td>0</td>\n",
       "    </tr>\n",
       "    <tr>\n",
       "      <th>3</th>\n",
       "      <td>0.000000</td>\n",
       "      <td>0.000000</td>\n",
       "      <td>31.145178</td>\n",
       "      <td>15.969105</td>\n",
       "      <td>274.582413</td>\n",
       "      <td>79.187200</td>\n",
       "      <td>56.413160</td>\n",
       "      <td>32.779015</td>\n",
       "      <td>28.114756</td>\n",
       "      <td>548.198314</td>\n",
       "      <td>...</td>\n",
       "      <td>28.938086</td>\n",
       "      <td>14.786057</td>\n",
       "      <td>1.780922</td>\n",
       "      <td>38.983140</td>\n",
       "      <td>5.990302</td>\n",
       "      <td>3.936920</td>\n",
       "      <td>3.432280</td>\n",
       "      <td>6.852479</td>\n",
       "      <td>254.399679</td>\n",
       "      <td>1</td>\n",
       "    </tr>\n",
       "    <tr>\n",
       "      <th>4</th>\n",
       "      <td>0.000000</td>\n",
       "      <td>0.000000</td>\n",
       "      <td>237.400212</td>\n",
       "      <td>301.631449</td>\n",
       "      <td>434.662665</td>\n",
       "      <td>101.799568</td>\n",
       "      <td>154.094102</td>\n",
       "      <td>80.326598</td>\n",
       "      <td>43.306234</td>\n",
       "      <td>972.401460</td>\n",
       "      <td>...</td>\n",
       "      <td>279.277437</td>\n",
       "      <td>135.713795</td>\n",
       "      <td>30.636842</td>\n",
       "      <td>105.555013</td>\n",
       "      <td>13.125972</td>\n",
       "      <td>27.417837</td>\n",
       "      <td>5.433283</td>\n",
       "      <td>12.155018</td>\n",
       "      <td>11.018074</td>\n",
       "      <td>0</td>\n",
       "    </tr>\n",
       "  </tbody>\n",
       "</table>\n",
       "<p>5 rows × 21 columns</p>\n",
       "</div>"
      ],
      "text/plain": [
       "   u_in_std  pressure_std  Polynomial_Area   Hull_Area     ft_TV_1  \\\n",
       "0  0.000000      0.000000       282.157479  350.167422  484.607933   \n",
       "1  0.000000      0.000000        28.139413   74.872299  300.129994   \n",
       "2 -1.221946     -0.984998       218.777887  272.316931  477.517065   \n",
       "3  0.000000      0.000000        31.145178   15.969105  274.582413   \n",
       "4  0.000000      0.000000       237.400212  301.631449  434.662665   \n",
       "\n",
       "      ft_TV_2     ft_TV_3    ft_TV_4    ft_TV_5       ft_P_1  ...      ft_P_3  \\\n",
       "0  183.391093   68.468914  56.159057  51.404353  1082.775828  ...  164.998616   \n",
       "1   60.284442   68.542576  55.210521  40.204153   642.684398  ...   52.755145   \n",
       "2  167.435953   75.304841  40.280884  57.576735  1046.921734  ...  175.425250   \n",
       "3   79.187200   56.413160  32.779015  28.114756   548.198314  ...   28.938086   \n",
       "4  101.799568  154.094102  80.326598  43.306234   972.401460  ...  279.277437   \n",
       "\n",
       "       ft_P_4      ft_P_5   Perimeter      Width     Height  Centroid_X  \\\n",
       "0   67.671789  116.198749  122.759376  18.353980  22.777895    6.057599   \n",
       "1   37.449278   53.714602   65.228595   8.975885   9.982905    3.751625   \n",
       "2   41.169516  109.287272  111.338845  16.383765  21.793665    5.968963   \n",
       "3   14.786057    1.780922   38.983140   5.990302   3.936920    3.432280   \n",
       "4  135.713795   30.636842  105.555013  13.125972  27.417837    5.433283   \n",
       "\n",
       "   Centroid_Y   Curvature  Cluster  \n",
       "0   13.534698   11.190253        0  \n",
       "1    8.033555   13.949885        1  \n",
       "2   13.086522    4.491883        0  \n",
       "3    6.852479  254.399679        1  \n",
       "4   12.155018   11.018074        0  \n",
       "\n",
       "[5 rows x 21 columns]"
      ]
     },
     "execution_count": 28,
     "metadata": {},
     "output_type": "execute_result"
    }
   ],
   "source": [
    "b_ids = DataSet['breath_id']\n",
    "DataSet.drop(DataSet.columns[[0,22]],axis=1,  inplace=True) \n",
    "DataSet.head()\n"
   ]
  },
  {
   "cell_type": "code",
   "execution_count": 29,
   "id": "06679437",
   "metadata": {},
   "outputs": [],
   "source": [
    "X_Features = DataSet.drop(columns='Cluster')\n",
    "y_labels = DataSet[\"Cluster\"]\n",
    "\n",
    "X_trainSet, X_testSet, Y_trainSet, Y_testSet = train_test_split(X_Features, y_labels, test_size=0.2, random_state=42)"
   ]
  },
  {
   "cell_type": "code",
   "execution_count": 30,
   "id": "f9328c9b",
   "metadata": {},
   "outputs": [],
   "source": [
    "xgb_train = xgb.DMatrix(X_trainSet, label = Y_trainSet, enable_categorical = True)\n",
    "xgb_test = xgb.DMatrix(X_testSet, label = Y_testSet, enable_categorical = True)"
   ]
  },
  {
   "cell_type": "code",
   "execution_count": 39,
   "id": "06b626c5",
   "metadata": {},
   "outputs": [],
   "source": [
    "from sklearn.preprocessing import LabelEncoder\n",
    "\n",
    "encoder = LabelEncoder()\n",
    "DataSet['EncodedCluster'] = encoder.fit_transform(DataSet['Cluster'])\n",
    "xgb_train = xgb.DMatrix(X_trainSet, label=DataSet.loc[X_trainSet.index, 'EncodedCluster'])\n",
    "xgb_test = xgb.DMatrix(X_testSet, label=DataSet.loc[X_testSet.index, 'EncodedCluster'])\n",
    "\n",
    "params = {\n",
    "    'objective': 'multi:softmax',\n",
    "    'num_class': DataSet['EncodedCluster'].nunique(),\n",
    "    'max_depth': 50,\n",
    "    'learning_rate': 0.8\n",
    "}\n",
    "\n",
    "model = xgb.train(params=params,dtrain=xgb_train,num_boost_round=20000)"
   ]
  },
  {
   "cell_type": "code",
   "execution_count": 40,
   "id": "ff1ca2ee",
   "metadata": {},
   "outputs": [],
   "source": [
    "y_test = DataSet.loc[X_testSet.index, 'EncodedCluster']"
   ]
  },
  {
   "cell_type": "code",
   "execution_count": 41,
   "id": "2e5a61df",
   "metadata": {},
   "outputs": [
    {
     "name": "stderr",
     "output_type": "stream",
     "text": [
      "/home/molderon/.local/lib/python3.13/site-packages/sklearn/metrics/_classification.py:1565: UndefinedMetricWarning: Precision is ill-defined and being set to 0.0 in labels with no predicted samples. Use `zero_division` parameter to control this behavior.\n",
      "  _warn_prf(average, modifier, f\"{metric.capitalize()} is\", len(result))\n",
      "/home/molderon/.local/lib/python3.13/site-packages/sklearn/metrics/_classification.py:1565: UndefinedMetricWarning: Precision is ill-defined and being set to 0.0 in labels with no predicted samples. Use `zero_division` parameter to control this behavior.\n",
      "  _warn_prf(average, modifier, f\"{metric.capitalize()} is\", len(result))\n",
      "/home/molderon/.local/lib/python3.13/site-packages/sklearn/metrics/_classification.py:1565: UndefinedMetricWarning: Precision is ill-defined and being set to 0.0 in labels with no predicted samples. Use `zero_division` parameter to control this behavior.\n",
      "  _warn_prf(average, modifier, f\"{metric.capitalize()} is\", len(result))\n"
     ]
    }
   ],
   "source": [
    "Nostradamus = model.predict(xgb_test)\n",
    "accuracy = accuracy_score(y_test, Nostradamus)\n",
    "ClassRep = classification_report(y_test,Nostradamus)\n",
    "Conf_Matrix = confusion_matrix(y_test, Nostradamus)"
   ]
  },
  {
   "cell_type": "code",
   "execution_count": 42,
   "id": "f1546a43",
   "metadata": {},
   "outputs": [
    {
     "name": "stdout",
     "output_type": "stream",
     "text": [
      "Accuracy of the model is: 99.78031634446397\n"
     ]
    }
   ],
   "source": [
    "print('Accuracy of the model is:', accuracy*100)"
   ]
  },
  {
   "cell_type": "code",
   "execution_count": 43,
   "id": "c098ad19",
   "metadata": {},
   "outputs": [],
   "source": [
    "os.chdir(Model_Path)\n",
    "model.save_model('PAV_XGB.bin')"
   ]
  },
  {
   "cell_type": "code",
   "execution_count": 44,
   "id": "912bf0e4",
   "metadata": {},
   "outputs": [
    {
     "data": {
      "text/plain": [
       "'              precision    recall  f1-score   support\\n\\n           0       0.00      0.00      0.00         1\\n           1       1.00      1.00      1.00      1381\\n           2       1.00      1.00      1.00       781\\n           3       0.50      1.00      0.67         1\\n           4       1.00      0.50      0.67         2\\n           7       0.89      0.89      0.89         9\\n           8       1.00      1.00      1.00         2\\n           9       1.00      0.60      0.75         5\\n          10       0.97      1.00      0.98        94\\n\\n    accuracy                           1.00      2276\\n   macro avg       0.82      0.78      0.77      2276\\nweighted avg       1.00      1.00      1.00      2276\\n'"
      ]
     },
     "execution_count": 44,
     "metadata": {},
     "output_type": "execute_result"
    }
   ],
   "source": [
    "ClassRep"
   ]
  },
  {
   "cell_type": "code",
   "execution_count": 28,
   "id": "842ac427",
   "metadata": {},
   "outputs": [
    {
     "data": {
      "text/plain": [
       "array([[  11,    0,    0,    0,    0],\n",
       "       [   0, 1381,    0,    0,    0],\n",
       "       [   0,    0,  781,    0,    0],\n",
       "       [   0,    0,    0,    1,    1],\n",
       "       [   0,    1,    0,    0,  100]])"
      ]
     },
     "execution_count": 28,
     "metadata": {},
     "output_type": "execute_result"
    }
   ],
   "source": [
    "Conf_Matrix"
   ]
  }
 ],
 "metadata": {
  "kernelspec": {
   "display_name": "Python 3",
   "language": "python",
   "name": "python3"
  },
  "language_info": {
   "codemirror_mode": {
    "name": "ipython",
    "version": 3
   },
   "file_extension": ".py",
   "mimetype": "text/x-python",
   "name": "python",
   "nbconvert_exporter": "python",
   "pygments_lexer": "ipython3",
   "version": "3.13.3"
  }
 },
 "nbformat": 4,
 "nbformat_minor": 5
}
