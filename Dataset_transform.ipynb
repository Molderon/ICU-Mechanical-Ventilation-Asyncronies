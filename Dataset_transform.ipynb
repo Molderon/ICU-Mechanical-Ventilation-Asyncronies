{
 "cells": [
  {
   "cell_type": "markdown",
   "metadata": {},
   "source": [
    "# DataSet Reforamting\n",
    "\n",
    "Script to split a dataset into sub-sets for use in classification and prediction algorithms. \n",
    "- Does not prepare datasets for ML algorithms!\n",
    "\n",
    "## Key Features:\n",
    "- Slices Datasets... \n",
    "---\n",
    "\n",
    "## Maintainer\n",
    "\n",
    "- **Email**: [Molderon@proton.me](mailto:Molderon@proton.me)\n",
    "- **GitHub**: [https://github.com/Molderon](https://github.com/Molderon)\n"
   ]
  },
  {
   "cell_type": "code",
   "execution_count": 16,
   "metadata": {},
   "outputs": [],
   "source": [
    "import os, sys\n",
    "from sklearn.model_selection import train_test_split\n",
    "import pandas as pd\n",
    "import matplotlib.pyplot as plt\n",
    "from dataclasses import dataclass, field\n",
    "Format_type: bool = True\n",
    "\n",
    "#assert sys.version >0 (3,5)\n",
    "hfont = {'fontname':'Helvetica'}\n",
    "csfont = {'fontname':'Comic Sans MS'}\n",
    "path : str = \"path/to/Datasets\"\n",
    "Save_path = \"/path/to/Save/\"\n",
    "Default_TestSet : str= field(default_factory=str)\n",
    "Default_TrainSet :str= field(default_factory=str)  \n",
    "\n",
    "Default_TestSet = \"test.csv\"\n",
    "Default_TrainSet = \"train.csv\"\n",
    "\n",
    "Full_Dataframe = pd.DataFrame()\n",
    "Test_Dataframe = pd.DataFrame()\n",
    "Train_Dataframe = pd.DataFrame()"
   ]
  },
  {
   "cell_type": "code",
   "execution_count": 17,
   "metadata": {},
   "outputs": [],
   "source": [
    "def Load_Datasets(path:str, testset_name: str, trainset_name: str):\n",
    "    try:\n",
    "        csv_path_train = os.path.join(path, trainset_name)\n",
    "        csv_path_test = os.path.join(path, testset_name)\n",
    "        test_csv = pd.read_csv(csv_path_test)\n",
    "        train_csv = pd.read_csv(csv_path_train)\n",
    "\n",
    "        full_df = pd.concat([train_csv, test_csv], axis=0, ignore_index=True)\n",
    "        return full_df\n",
    "    except Exception:\n",
    "        print(\"Bad file directory\")\n",
    "        exit(0)"
   ]
  },
  {
   "cell_type": "code",
   "execution_count": 18,
   "metadata": {},
   "outputs": [],
   "source": [
    "def Datasets_Splits(Full_Dataframe: pd.DataFrame,Format_type: bool, Save_path: str):\n",
    "    if(Full_Dataframe.empty):\n",
    "        print(\"File Error - Empty Dataset\\n\")\n",
    "        exit(0)\n",
    "\n",
    "    elif(Format_type == True):  \n",
    "        Training_Set, MultiClass_Valid = train_test_split(Full_Dataframe, test_size=0.35, random_state=42)\n",
    "        Cross_Validation, _ = train_test_split(MultiClass_Valid, test_size=0.4, random_state=33)\n",
    "\n",
    "        Training_Set = Training_Set.drop_duplicates(subset = MultiClass_Valid.columns)\n",
    "        Training_Set = Training_Set.drop_duplicates(subset = Cross_Validation.columns)\n",
    "\n",
    "        MultiClass_Valid = MultiClass_Valid.drop_duplicates(subset =Cross_Validation.columns)\n",
    "\n",
    "        \n",
    "        Training_Set.to_csv(str(Save_path+ \"TrainingSet.csv\"))\n",
    "        MultiClass_Valid.to_csv(str(Save_path + \"MultiValid.csv\"))\n",
    "        Cross_Validation.to_csv(str(Save_path + \"CrossValid.csv\"))\n",
    "    else:\n",
    "        Training_set, Test_Set = train_test_split(Full_Dataframe, test_size=0.25, random_state=42)\n",
    "        Training_Set = Training_Set.drop_duplicates(subset = Test_Set.columns)\n",
    "\n",
    "        Training_set.to_csv(str(Save_path + \"Training_set.csv\"),index= False)\n",
    "        Test_Set.to_csv(str(Save_path+\"Test_set.csv\"))"
   ]
  },
  {
   "cell_type": "markdown",
   "metadata": {},
   "source": []
  },
  {
   "cell_type": "code",
   "execution_count": 19,
   "metadata": {},
   "outputs": [],
   "source": [
    "def Observe_Set(RandomCSV_table: pd.DataFrame):\n",
    "    print(RandomCSV_table.info())\n",
    "    print(RandomCSV_table.describe())\n",
    "    RandomCSV_table.head(10)"
   ]
  },
  {
   "cell_type": "code",
   "execution_count": 20,
   "metadata": {},
   "outputs": [
    {
     "name": "stdout",
     "output_type": "stream",
     "text": [
      "Data sets, saved!\n",
      "\n"
     ]
    }
   ],
   "source": [
    "Full_Dataframe = Load_Datasets(path, Default_TestSet, Default_TrainSet)\n",
    "Datasets_Splits(Full_Dataframe,Format_type,Save_path)\n",
    "print(\"Data sets, saved!\\n\")"
   ]
  }
 ],
 "metadata": {
  "kernelspec": {
   "display_name": "PythonEnv",
   "language": "python",
   "name": "python3"
  },
  "language_info": {
   "codemirror_mode": {
    "name": "ipython",
    "version": 3
   },
   "file_extension": ".py",
   "mimetype": "text/x-python",
   "name": "python",
   "nbconvert_exporter": "python",
   "pygments_lexer": "ipython3",
   "version": "3.12.6"
  }
 },
 "nbformat": 4,
 "nbformat_minor": 2
}
